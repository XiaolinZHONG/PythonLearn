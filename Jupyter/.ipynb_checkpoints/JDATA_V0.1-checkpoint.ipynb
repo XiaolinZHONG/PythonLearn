{
 "cells": [
  {
   "cell_type": "markdown",
   "metadata": {},
   "source": [
    "## JDATA V0.1"
   ]
  },
  {
   "cell_type": "markdown",
   "metadata": {},
   "source": [
    "### 数据探索 DEA"
   ]
  },
  {
   "cell_type": "code",
   "execution_count": 32,
   "metadata": {
    "collapsed": false
   },
   "outputs": [
    {
     "data": {
      "text/html": [
       "<div>\n",
       "<table border=\"1\" class=\"dataframe\">\n",
       "  <thead>\n",
       "    <tr style=\"text-align: right;\">\n",
       "      <th></th>\n",
       "      <th>user_id</th>\n",
       "      <th>age</th>\n",
       "      <th>sex</th>\n",
       "      <th>user_lv_cd</th>\n",
       "      <th>user_reg_dt</th>\n",
       "    </tr>\n",
       "  </thead>\n",
       "  <tbody>\n",
       "    <tr>\n",
       "      <th>0</th>\n",
       "      <td>54</td>\n",
       "      <td>-1</td>\n",
       "      <td>2</td>\n",
       "      <td>1</td>\n",
       "      <td>2016/1/26</td>\n",
       "    </tr>\n",
       "    <tr>\n",
       "      <th>1</th>\n",
       "      <td>79</td>\n",
       "      <td>36-45岁</td>\n",
       "      <td>2</td>\n",
       "      <td>2</td>\n",
       "      <td>2016/1/27</td>\n",
       "    </tr>\n",
       "    <tr>\n",
       "      <th>2</th>\n",
       "      <td>100</td>\n",
       "      <td>16-25岁</td>\n",
       "      <td>2</td>\n",
       "      <td>3</td>\n",
       "      <td>2016/1/27</td>\n",
       "    </tr>\n",
       "    <tr>\n",
       "      <th>3</th>\n",
       "      <td>266</td>\n",
       "      <td>15岁以下</td>\n",
       "      <td>2</td>\n",
       "      <td>2</td>\n",
       "      <td>2016/1/29</td>\n",
       "    </tr>\n",
       "    <tr>\n",
       "      <th>4</th>\n",
       "      <td>333</td>\n",
       "      <td>-1</td>\n",
       "      <td>2</td>\n",
       "      <td>4</td>\n",
       "      <td>2016/1/30</td>\n",
       "    </tr>\n",
       "  </tbody>\n",
       "</table>\n",
       "</div>"
      ],
      "text/plain": [
       "   user_id     age  sex  user_lv_cd user_reg_dt\n",
       "0       54      -1    2           1   2016/1/26\n",
       "1       79  36-45岁    2           2   2016/1/27\n",
       "2      100  16-25岁    2           3   2016/1/27\n",
       "3      266   15岁以下    2           2   2016/1/29\n",
       "4      333      -1    2           4   2016/1/30"
      ]
     },
     "execution_count": 32,
     "metadata": {},
     "output_type": "execute_result"
    }
   ],
   "source": [
    "# 导入数据\n",
    "import pandas as pd\n",
    "from datetime import datetime\n",
    "\n",
    "# 导入用户数据\n",
    "user_df=pd.read_csv(\"~/Desktop/dataAnalysis/JDATA/JData_User/JData_User.csv\",\n",
    "                    sep=\",\",encoding=\"utf-8\",dtype={\"sex\":int,\"user_lv_cd\":int,\"user_reg_dt\":datetime})\n",
    "user_df.head()"
   ]
  },
  {
   "cell_type": "code",
   "execution_count": 10,
   "metadata": {
    "collapsed": false
   },
   "outputs": [
    {
     "data": {
      "text/html": [
       "<div>\n",
       "<table border=\"1\" class=\"dataframe\">\n",
       "  <thead>\n",
       "    <tr style=\"text-align: right;\">\n",
       "      <th></th>\n",
       "      <th>user_id</th>\n",
       "      <th>sex</th>\n",
       "      <th>user_lv_cd</th>\n",
       "    </tr>\n",
       "  </thead>\n",
       "  <tbody>\n",
       "    <tr>\n",
       "      <th>count</th>\n",
       "      <td>103616.000000</td>\n",
       "      <td>103616.000000</td>\n",
       "      <td>103616.000000</td>\n",
       "    </tr>\n",
       "    <tr>\n",
       "      <th>mean</th>\n",
       "      <td>51808.500000</td>\n",
       "      <td>1.047647</td>\n",
       "      <td>3.962979</td>\n",
       "    </tr>\n",
       "    <tr>\n",
       "      <th>std</th>\n",
       "      <td>29911.507083</td>\n",
       "      <td>0.961528</td>\n",
       "      <td>1.041762</td>\n",
       "    </tr>\n",
       "    <tr>\n",
       "      <th>min</th>\n",
       "      <td>1.000000</td>\n",
       "      <td>0.000000</td>\n",
       "      <td>1.000000</td>\n",
       "    </tr>\n",
       "    <tr>\n",
       "      <th>25%</th>\n",
       "      <td>25904.750000</td>\n",
       "      <td>0.000000</td>\n",
       "      <td>3.000000</td>\n",
       "    </tr>\n",
       "    <tr>\n",
       "      <th>50%</th>\n",
       "      <td>51808.500000</td>\n",
       "      <td>1.000000</td>\n",
       "      <td>4.000000</td>\n",
       "    </tr>\n",
       "    <tr>\n",
       "      <th>75%</th>\n",
       "      <td>77712.250000</td>\n",
       "      <td>2.000000</td>\n",
       "      <td>5.000000</td>\n",
       "    </tr>\n",
       "    <tr>\n",
       "      <th>max</th>\n",
       "      <td>103616.000000</td>\n",
       "      <td>2.000000</td>\n",
       "      <td>5.000000</td>\n",
       "    </tr>\n",
       "  </tbody>\n",
       "</table>\n",
       "</div>"
      ],
      "text/plain": [
       "             user_id            sex     user_lv_cd\n",
       "count  103616.000000  103616.000000  103616.000000\n",
       "mean    51808.500000       1.047647       3.962979\n",
       "std     29911.507083       0.961528       1.041762\n",
       "min         1.000000       0.000000       1.000000\n",
       "25%     25904.750000       0.000000       3.000000\n",
       "50%     51808.500000       1.000000       4.000000\n",
       "75%     77712.250000       2.000000       5.000000\n",
       "max    103616.000000       2.000000       5.000000"
      ]
     },
     "execution_count": 10,
     "metadata": {},
     "output_type": "execute_result"
    }
   ],
   "source": [
    "user_df.describe()"
   ]
  },
  {
   "cell_type": "code",
   "execution_count": 33,
   "metadata": {
    "collapsed": false
   },
   "outputs": [
    {
     "data": {
      "text/plain": [
       "age\n",
       "-1        12803\n",
       "15岁以下         6\n",
       "16-25岁     7999\n",
       "26-35岁    46525\n",
       "36-45岁    30828\n",
       "46-55岁     3407\n",
       "56岁以上      2048\n",
       "Name: user_id, dtype: int64"
      ]
     },
     "execution_count": 33,
     "metadata": {},
     "output_type": "execute_result"
    }
   ],
   "source": [
    "user_df[\"user_id\"].groupby(user_df[\"age\"]).count()"
   ]
  },
  {
   "cell_type": "code",
   "execution_count": 34,
   "metadata": {
    "collapsed": false
   },
   "outputs": [],
   "source": [
    "#替换文字为数值\n",
    "user_df[\"age2\"]=user_df[\"age\"].map(\n",
    "    {\"-1\":-1,\"15岁以下\":10,\"16-25岁\":20,\"26-35岁\":30,\"36-45岁\":40,\"46-55岁\":50,\"56岁以上\":60})"
   ]
  },
  {
   "cell_type": "code",
   "execution_count": 48,
   "metadata": {
    "collapsed": false
   },
   "outputs": [
    {
     "name": "stdout",
     "output_type": "stream",
     "text": [
      "age2\n",
      "-1     12803\n",
      " 10        6\n",
      " 20     7999\n",
      " 30    46525\n",
      " 40    30828\n",
      " 50     3407\n",
      " 60     2048\n",
      "Name: user_id, dtype: int64\n"
     ]
    },
    {
     "data": {
      "text/plain": [
       "<matplotlib.figure.Figure at 0x15018df28>"
      ]
     },
     "metadata": {},
     "output_type": "display_data"
    },
    {
     "data": {
      "image/png": "[encoded data removed]",
      "text/plain": [
       "<matplotlib.figure.Figure at 0x14ffed550>"
      ]
     },
     "metadata": {},
     "output_type": "display_data"
    },
    {
     "data": {
      "image/png": "[encoded data removed]",
      "text/plain": [
       "<matplotlib.figure.Figure at 0x14e87a748>"
      ]
     },
     "metadata": {},
     "output_type": "display_data"
    },
    {
     "data": {
      "image/png": "[encoded data removed]",
      "text/plain": [
       "<matplotlib.figure.Figure at 0x151cbe748>"
      ]
     },
     "metadata": {},
     "output_type": "display_data"
    }
   ],
   "source": [
    "print(user_df[\"user_id\"].groupby(user_df[\"age2\"]).count())\n",
    "\n",
    "import matplotlib.pyplot as plt\n",
    "import seaborn as sns\n",
    "import numpy as np\n",
    "\n",
    "%matplotlib inline\n",
    "plt.figure()\n",
    "for col in [\"age2\",\"sex\",\"user_lv_cd\"]:\n",
    "    user_df[[col]].plot.hist()\n",
    "    plt.show()"
   ]
  },
  {
   "cell_type": "code",
   "execution_count": 26,
   "metadata": {
    "collapsed": false
   },
   "outputs": [
    {
     "data": {
      "text/html": [
       "<div>\n",
       "<table border=\"1\" class=\"dataframe\">\n",
       "  <thead>\n",
       "    <tr style=\"text-align: right;\">\n",
       "      <th></th>\n",
       "      <th>user_id</th>\n",
       "      <th>sku_id</th>\n",
       "      <th>time</th>\n",
       "      <th>model_id</th>\n",
       "      <th>type</th>\n",
       "      <th>cate</th>\n",
       "      <th>brand</th>\n",
       "    </tr>\n",
       "  </thead>\n",
       "  <tbody>\n",
       "    <tr>\n",
       "      <th>0</th>\n",
       "      <td>27630</td>\n",
       "      <td>37957</td>\n",
       "      <td>2016-02-01 07:43:14</td>\n",
       "      <td>NaN</td>\n",
       "      <td>6</td>\n",
       "      <td>8</td>\n",
       "      <td>489</td>\n",
       "    </tr>\n",
       "    <tr>\n",
       "      <th>1</th>\n",
       "      <td>65377</td>\n",
       "      <td>165713</td>\n",
       "      <td>2016-02-01 11:09:34</td>\n",
       "      <td>NaN</td>\n",
       "      <td>6</td>\n",
       "      <td>5</td>\n",
       "      <td>124</td>\n",
       "    </tr>\n",
       "    <tr>\n",
       "      <th>2</th>\n",
       "      <td>10396</td>\n",
       "      <td>65823</td>\n",
       "      <td>2016-02-01 08:20:59</td>\n",
       "      <td>NaN</td>\n",
       "      <td>6</td>\n",
       "      <td>6</td>\n",
       "      <td>78</td>\n",
       "    </tr>\n",
       "    <tr>\n",
       "      <th>3</th>\n",
       "      <td>65377</td>\n",
       "      <td>165713</td>\n",
       "      <td>2016-02-01 11:09:34</td>\n",
       "      <td>NaN</td>\n",
       "      <td>6</td>\n",
       "      <td>5</td>\n",
       "      <td>124</td>\n",
       "    </tr>\n",
       "    <tr>\n",
       "      <th>4</th>\n",
       "      <td>10396</td>\n",
       "      <td>65823</td>\n",
       "      <td>2016-02-01 08:20:56</td>\n",
       "      <td>NaN</td>\n",
       "      <td>6</td>\n",
       "      <td>6</td>\n",
       "      <td>78</td>\n",
       "    </tr>\n",
       "  </tbody>\n",
       "</table>\n",
       "</div>"
      ],
      "text/plain": [
       "   user_id  sku_id                 time  model_id  type  cate  brand\n",
       "0    27630   37957  2016-02-01 07:43:14       NaN     6     8    489\n",
       "1    65377  165713  2016-02-01 11:09:34       NaN     6     5    124\n",
       "2    10396   65823  2016-02-01 08:20:59       NaN     6     6     78\n",
       "3    65377  165713  2016-02-01 11:09:34       NaN     6     5    124\n",
       "4    10396   65823  2016-02-01 08:20:56       NaN     6     6     78"
      ]
     },
     "execution_count": 26,
     "metadata": {},
     "output_type": "execute_result"
    }
   ],
   "source": [
    "# 读取交易数据\n",
    "action_df=pd.read_csv(\"~/Desktop/dataAnalysis/JDATA/JData_Action_201602/JData_Action_201602.csv\",\n",
    "                      sep=\",\",encoding=\"utf-8\")\n",
    "action_df.head()"
   ]
  },
  {
   "cell_type": "code",
   "execution_count": 59,
   "metadata": {
    "collapsed": false
   },
   "outputs": [
    {
     "name": "stdout",
     "output_type": "stream",
     "text": [
      "Calculating the percentile, please wait patiently !\n"
     ]
    }
   ],
   "source": [
    "from IPython.core.interactiveshell import InteractiveShell\n",
    "InteractiveShell.ast_node_interactivity = \"all\"\n",
    "\n",
    "\n",
    "class DataPreprocess:\n",
    "    '''\n",
    "    类功能：\n",
    "    对DataFrame数据探索处理: 影响因子排序，相关性分析，学习曲线，分类报告，数据分布特点\n",
    "    '''\n",
    "    import numpy as np\n",
    "    def importancePlot(dataflag, flag=\"label\", figure=True):\n",
    "        '''\n",
    "        输入 dataframe 绘制影响因子排序及图\n",
    "        :param flag: 标签名称\n",
    "        :param figure: 是否画图\n",
    "        :return: 提示建议选取特征数目，仅供参考。\n",
    "        '''\n",
    "\n",
    "        label = dataflag[flag]\n",
    "        data = dataflag.drop(flag, axis=1)\n",
    "        data1 = np.array(data)\n",
    "        label = np.array(label).ravel()\n",
    "\n",
    "        model = ExtraTreesClassifier()\n",
    "        model.fit(data1, label)\n",
    "\n",
    "        importance = model.feature_importances_\n",
    "        std = np.std([importance for tree in model.estimators_], axis=0)\n",
    "        indices = np.argsort(importance)[::-1]\n",
    "\n",
    "        featurename = list(data.columns[indices])\n",
    "\n",
    "        # Print the feature ranking\n",
    "        print(\"Feature ranking:\")\n",
    "        importa = pd.DataFrame(\n",
    "            {'特征权重': list(importance[indices]), '特征名称': featurename})\n",
    "        print(importa)\n",
    "\n",
    "        modelnew = SelectFromModel(model, prefit=True)\n",
    "\n",
    "        print('建议选取的特征数目:', modelnew.transform(data1).shape[1])\n",
    "\n",
    "        # Plot the feature importances of the forest\n",
    "        if figure == True:\n",
    "            plt.figure()\n",
    "            plt.title(\"Feature importances\")\n",
    "            plt.bar(range(data1.shape[1]), importance[indices],\n",
    "                    color=\"g\", yerr=std[indices], align=\"center\")\n",
    "            plt.xticks(range(data1.shape[1]), indices, rotation=90)\n",
    "            plt.xlim([-1, data1.shape[1]])\n",
    "            plt.grid(True)\n",
    "            plt.show()\n",
    "\n",
    "    def corrAnaly(data):\n",
    "\n",
    "        corr = data.corr()\n",
    "\n",
    "        # Generate a mask for the upper triangle\n",
    "        mask = np.zeros_like(corr, dtype=np.bool)\n",
    "        mask[np.triu_indices_from(mask)] = True\n",
    "\n",
    "        f, ax = plt.subplots(figsize=(20, 20))\n",
    "\n",
    "        # Generate a custom diverging colormap\n",
    "        cmap = sns.diverging_palette(110, 10, as_cmap=True)\n",
    "\n",
    "        # Draw the heatmap with the mask and correct aspect ratio\n",
    "        sns.heatmap(corr, mask=mask, cmap=cmap, vmax=1, linewidths=.5,\n",
    "                    cbar_kws={\"shrink\": .6}, annot=True, annot_kws={\"size\": 8})\n",
    "        plt.xticks(rotation=90)\n",
    "        plt.yticks(rotation=0)\n",
    "        sns.plt.show()\n",
    "        return corr\n",
    "\n",
    "    def learnCurve(modelEstimator, title, data, label, cv=None, train_sizes=np.linspace(0.1, 1.0, 5)):\n",
    "        '''\n",
    "        :param estimator: the model/algorithem you choose\n",
    "        :param title: plot title\n",
    "        :param x: train data numpy array style\n",
    "        :param y: target data vector\n",
    "        :param xlim: axes x lim\n",
    "        :param ylim: axes y lim\n",
    "        :param cv:\n",
    "        :return: the figure\n",
    "        '''\n",
    "\n",
    "        train_sizes, train_scores, test_scores = \\\n",
    "            learning_curve(modelEstimator, data, label, cv=cv, train_sizes=train_sizes)\n",
    "\n",
    "        '''this is the key score function'''\n",
    "        train_scores_mean = np.mean(train_scores, axis=1)\n",
    "        train_scores_std = np.std(train_scores, axis=1)\n",
    "        test_scores_mean = np.mean(test_scores, axis=1)\n",
    "        test_scores_std = np.std(test_scores, axis=1)\n",
    "\n",
    "        plt.figure()\n",
    "        plt.fill_between(train_sizes, train_scores_mean - train_scores_std,\n",
    "                         train_scores_mean + train_scores_std, alpha=0.1, color='b')\n",
    "        plt.fill_between(train_sizes, test_scores_mean - test_scores_std,\n",
    "                         test_scores_mean + test_scores_std, alpha=0.1, color='g')\n",
    "        plt.plot(train_sizes, train_scores_mean, 'o-', color='b', label='training score')\n",
    "        plt.plot(train_sizes, test_scores_mean, 'o-', color='g', label='cross valid score')\n",
    "        plt.xlabel('training examples')\n",
    "        plt.ylabel('score')\n",
    "        plt.legend(loc='best')\n",
    "        plt.grid('on')\n",
    "        plt.title(title)\n",
    "        plt.show()\n",
    "\n",
    "    def classifyReport(label_tst, pre):\n",
    "        '''\n",
    "        交叉验证数据分类报告，0为负样本，1为正样本\n",
    "        :param label_tst: 标签\n",
    "        :param pre: 分类结果可能性\n",
    "        :return:\n",
    "        '''\n",
    "        count_tn, count_fp, count_fn, count_tp = 0, 0, 0, 0\n",
    "\n",
    "        for i in range(len(label_tst)):\n",
    "            if label_tst[i] == 0:\n",
    "                if pre[i] < 0.5:\n",
    "                    count_tn += 1\n",
    "                else:\n",
    "                    count_fp += 1\n",
    "            else:\n",
    "                if pre[i] < 0.5:\n",
    "                    count_fn += 1\n",
    "                else:\n",
    "                    count_tp += 1\n",
    "\n",
    "        print('Total:', len(label_tst))\n",
    "        print('FP被分为好的坏:', count_fp, 'TN正确分类的坏:', count_tn, '坏正确率：',\n",
    "              round(float(count_tn) / float((count_fp + count_tn)), 3))\n",
    "        print('FN被分为坏的好:', count_fn, 'TP正确分类的好:', count_tp, '好正确率：',\n",
    "              round(float(count_tp) / float((count_fn + count_tp)), 3))\n",
    "\n",
    "    def datadescribe(data):\n",
    "\n",
    "        def valuecount(x):\n",
    "            count = 0\n",
    "            for i in x:\n",
    "                if i == -1:\n",
    "                    count = count + 1\n",
    "            count=sum(x.isnull())+count\n",
    "            return count / len(x)\n",
    "\n",
    "        # 计算缺失率\n",
    "        a = pd.DataFrame(data.apply(lambda x: valuecount(x), axis=0), columns=['miss_rate'])\n",
    "\n",
    "        # 计算分位数\n",
    "        data = data.dropna(how='any')\n",
    "        b = data.describe([0.25, 0.5, 0.75, 0.9, 0.95]).T\n",
    "\n",
    "        print(\"Calculating the percentile, please wait patiently !\")\n",
    "\n",
    "        result = pd.concat([b, a], axis=1, join='inner')\n",
    "        result = result.T\n",
    "        return result\n",
    "\n",
    "descri_df=DataPreprocess.datadescribe(action_df[[\"time\",\"model_id\",\"type\",\"cate\",\"brand\"]])"
   ]
  },
  {
   "cell_type": "code",
   "execution_count": 60,
   "metadata": {
    "collapsed": false
   },
   "outputs": [
    {
     "data": {
      "text/html": [
       "<div>\n",
       "<table border=\"1\" class=\"dataframe\">\n",
       "  <thead>\n",
       "    <tr style=\"text-align: right;\">\n",
       "      <th></th>\n",
       "      <th>model_id</th>\n",
       "      <th>type</th>\n",
       "      <th>cate</th>\n",
       "      <th>brand</th>\n",
       "    </tr>\n",
       "  </thead>\n",
       "  <tbody>\n",
       "    <tr>\n",
       "      <th>count</th>\n",
       "      <td>1.042881e+07</td>\n",
       "      <td>10428806.0</td>\n",
       "      <td>1.042881e+07</td>\n",
       "      <td>1.042881e+07</td>\n",
       "    </tr>\n",
       "    <tr>\n",
       "      <th>mean</th>\n",
       "      <td>9.350296e+01</td>\n",
       "      <td>6.0</td>\n",
       "      <td>6.443662e+00</td>\n",
       "      <td>4.307732e+02</td>\n",
       "    </tr>\n",
       "    <tr>\n",
       "      <th>std</th>\n",
       "      <td>1.020262e+02</td>\n",
       "      <td>0.0</td>\n",
       "      <td>1.803369e+00</td>\n",
       "      <td>2.434340e+02</td>\n",
       "    </tr>\n",
       "    <tr>\n",
       "      <th>min</th>\n",
       "      <td>0.000000e+00</td>\n",
       "      <td>6.0</td>\n",
       "      <td>4.000000e+00</td>\n",
       "      <td>4.000000e+00</td>\n",
       "    </tr>\n",
       "    <tr>\n",
       "      <th>25%</th>\n",
       "      <td>0.000000e+00</td>\n",
       "      <td>6.0</td>\n",
       "      <td>5.000000e+00</td>\n",
       "      <td>2.140000e+02</td>\n",
       "    </tr>\n",
       "    <tr>\n",
       "      <th>50%</th>\n",
       "      <td>2.600000e+01</td>\n",
       "      <td>6.0</td>\n",
       "      <td>7.000000e+00</td>\n",
       "      <td>4.530000e+02</td>\n",
       "    </tr>\n",
       "    <tr>\n",
       "      <th>75%</th>\n",
       "      <td>2.160000e+02</td>\n",
       "      <td>6.0</td>\n",
       "      <td>8.000000e+00</td>\n",
       "      <td>6.230000e+02</td>\n",
       "    </tr>\n",
       "    <tr>\n",
       "      <th>90%</th>\n",
       "      <td>2.180000e+02</td>\n",
       "      <td>6.0</td>\n",
       "      <td>8.000000e+00</td>\n",
       "      <td>8.000000e+02</td>\n",
       "    </tr>\n",
       "    <tr>\n",
       "      <th>95%</th>\n",
       "      <td>2.180000e+02</td>\n",
       "      <td>6.0</td>\n",
       "      <td>9.000000e+00</td>\n",
       "      <td>8.850000e+02</td>\n",
       "    </tr>\n",
       "    <tr>\n",
       "      <th>max</th>\n",
       "      <td>3.480000e+02</td>\n",
       "      <td>6.0</td>\n",
       "      <td>1.100000e+01</td>\n",
       "      <td>9.230000e+02</td>\n",
       "    </tr>\n",
       "    <tr>\n",
       "      <th>miss_rate</th>\n",
       "      <td>4.243732e-01</td>\n",
       "      <td>0.0</td>\n",
       "      <td>0.000000e+00</td>\n",
       "      <td>0.000000e+00</td>\n",
       "    </tr>\n",
       "  </tbody>\n",
       "</table>\n",
       "</div>"
      ],
      "text/plain": [
       "               model_id        type          cate         brand\n",
       "count      1.042881e+07  10428806.0  1.042881e+07  1.042881e+07\n",
       "mean       9.350296e+01         6.0  6.443662e+00  4.307732e+02\n",
       "std        1.020262e+02         0.0  1.803369e+00  2.434340e+02\n",
       "min        0.000000e+00         6.0  4.000000e+00  4.000000e+00\n",
       "25%        0.000000e+00         6.0  5.000000e+00  2.140000e+02\n",
       "50%        2.600000e+01         6.0  7.000000e+00  4.530000e+02\n",
       "75%        2.160000e+02         6.0  8.000000e+00  6.230000e+02\n",
       "90%        2.180000e+02         6.0  8.000000e+00  8.000000e+02\n",
       "95%        2.180000e+02         6.0  9.000000e+00  8.850000e+02\n",
       "max        3.480000e+02         6.0  1.100000e+01  9.230000e+02\n",
       "miss_rate  4.243732e-01         0.0  0.000000e+00  0.000000e+00"
      ]
     },
     "execution_count": 60,
     "metadata": {},
     "output_type": "execute_result"
    }
   ],
   "source": [
    "descri_df #model_id 有大概42%的缺失。"
   ]
  },
  {
   "cell_type": "code",
   "execution_count": null,
   "metadata": {
    "collapsed": true
   },
   "outputs": [],
   "source": []
  }
 ],
 "metadata": {
  "kernelspec": {
   "display_name": "Python 3",
   "language": "python",
   "name": "python3"
  },
  "language_info": {
   "codemirror_mode": {
    "name": "ipython",
    "version": 3
   },
   "file_extension": ".py",
   "mimetype": "text/x-python",
   "name": "python",
   "nbconvert_exporter": "python",
   "pygments_lexer": "ipython3",
   "version": "3.6.0"
  }
 },
 "nbformat": 4,
 "nbformat_minor": 2
}
