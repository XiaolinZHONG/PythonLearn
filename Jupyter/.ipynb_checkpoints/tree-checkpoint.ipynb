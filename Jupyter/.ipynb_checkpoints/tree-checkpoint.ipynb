{
 "cells": [
  {
   "cell_type": "code",
   "execution_count": 1,
   "metadata": {
    "collapsed": false
   },
   "outputs": [],
   "source": [
    "import sys\n",
    "\n",
    "# print(sys.path)\n",
    "sys.path.append(\"/Users/xiaolin/PycharmProjects/PythonLearn/PythonLearnOne\")\n",
    "from ClassTreeBinTools import TreeBinTools #从 sdf.py  中导入 里面的类\n",
    "# print(sys.path)"
   ]
  },
  {
   "cell_type": "code",
   "execution_count": 8,
   "metadata": {
    "collapsed": false
   },
   "outputs": [],
   "source": [
    "from ClassTreeBinTools import TreeBinTools #从 sdf.py  中导入 里面的类"
   ]
  },
  {
   "cell_type": "code",
   "execution_count": 3,
   "metadata": {
    "collapsed": false
   },
   "outputs": [],
   "source": [
    "from ClassPandas_tools import Pandas_tools"
   ]
  },
  {
   "cell_type": "code",
   "execution_count": 27,
   "metadata": {
    "collapsed": false
   },
   "outputs": [
    {
     "name": "stdout",
     "output_type": "stream",
     "text": [
      "     A    B    C    D\n",
      "0  5.1  3.5  1.4  0.2\n",
      "1  4.9  3.0  1.4  0.2\n",
      "2  4.7  3.2  1.3  0.2\n",
      "3  4.6  3.1  1.5  0.2\n",
      "4  5.0  3.6  1.4  0.2\n"
     ]
    }
   ],
   "source": [
    "pandastool=Pandas_tools()\n",
    "x,y=pandastool.Sample_maker()"
   ]
  },
  {
   "cell_type": "code",
   "execution_count": 21,
   "metadata": {
    "collapsed": false
   },
   "outputs": [],
   "source": [
    "def Sample_maker():\n",
    "    from sklearn.datasets import load_iris\n",
    "    import pandas as pd\n",
    "    data = load_iris()\n",
    "    y = data[\"target\"][:100]\n",
    "    x = data[\"data\"][:100, 0:4]\n",
    "\n",
    "    samples = pd.DataFrame(\n",
    "        {\"A\": x[:, 0].ravel(),\n",
    "         \"B\": x[:, 1].ravel(),\n",
    "         \"C\": x[:, 2],\n",
    "         \"D\": x[:, 3]})\n",
    "    print(samples.head())\n",
    "    return samples\n",
    "\n"
   ]
  },
  {
   "cell_type": "code",
   "execution_count": 25,
   "metadata": {
    "collapsed": false
   },
   "outputs": [
    {
     "name": "stdout",
     "output_type": "stream",
     "text": [
      "     A    B    C    D\n",
      "0  5.1  3.5  1.4  0.2\n",
      "1  4.9  3.0  1.4  0.2\n",
      "2  4.7  3.2  1.3  0.2\n",
      "3  4.6  3.1  1.5  0.2\n",
      "4  5.0  3.6  1.4  0.2\n"
     ]
    },
    {
     "data": {
      "text/html": [
       "<div>\n",
       "<table border=\"1\" class=\"dataframe\">\n",
       "  <thead>\n",
       "    <tr style=\"text-align: right;\">\n",
       "      <th></th>\n",
       "      <th>A</th>\n",
       "      <th>B</th>\n",
       "      <th>C</th>\n",
       "      <th>D</th>\n",
       "    </tr>\n",
       "  </thead>\n",
       "  <tbody>\n",
       "    <tr>\n",
       "      <th>0</th>\n",
       "      <td>5.1</td>\n",
       "      <td>3.5</td>\n",
       "      <td>1.4</td>\n",
       "      <td>0.2</td>\n",
       "    </tr>\n",
       "    <tr>\n",
       "      <th>1</th>\n",
       "      <td>4.9</td>\n",
       "      <td>3.0</td>\n",
       "      <td>1.4</td>\n",
       "      <td>0.2</td>\n",
       "    </tr>\n",
       "    <tr>\n",
       "      <th>2</th>\n",
       "      <td>4.7</td>\n",
       "      <td>3.2</td>\n",
       "      <td>1.3</td>\n",
       "      <td>0.2</td>\n",
       "    </tr>\n",
       "    <tr>\n",
       "      <th>3</th>\n",
       "      <td>4.6</td>\n",
       "      <td>3.1</td>\n",
       "      <td>1.5</td>\n",
       "      <td>0.2</td>\n",
       "    </tr>\n",
       "    <tr>\n",
       "      <th>4</th>\n",
       "      <td>5.0</td>\n",
       "      <td>3.6</td>\n",
       "      <td>1.4</td>\n",
       "      <td>0.2</td>\n",
       "    </tr>\n",
       "  </tbody>\n",
       "</table>\n",
       "</div>"
      ],
      "text/plain": [
       "     A    B    C    D\n",
       "0  5.1  3.5  1.4  0.2\n",
       "1  4.9  3.0  1.4  0.2\n",
       "2  4.7  3.2  1.3  0.2\n",
       "3  4.6  3.1  1.5  0.2\n",
       "4  5.0  3.6  1.4  0.2"
      ]
     },
     "execution_count": 25,
     "metadata": {},
     "output_type": "execute_result"
    }
   ],
   "source": [
    "x=Sample_maker()\n",
    "x.head()"
   ]
  },
  {
   "cell_type": "code",
   "execution_count": 44,
   "metadata": {
    "collapsed": false
   },
   "outputs": [
    {
     "data": {
      "text/plain": [
       "(      A    B    C    D\n",
       " 0   5.1  3.5  1.4  0.2\n",
       " 1   4.9  3.0  1.4  0.2\n",
       " 2   4.7  3.2  1.3  0.2\n",
       " 3   4.6  3.1  1.5  0.2\n",
       " 4   5.0  3.6  1.4  0.2\n",
       " 5   5.4  3.9  1.7  0.4\n",
       " 6   4.6  3.4  1.4  0.3\n",
       " 7   5.0  3.4  1.5  0.2\n",
       " 8   4.4  2.9  1.4  0.2\n",
       " 9   4.9  3.1  1.5  0.1\n",
       " 10  5.4  3.7  1.5  0.2\n",
       " 11  4.8  3.4  1.6  0.2\n",
       " 12  4.8  3.0  1.4  0.1\n",
       " 13  4.3  3.0  1.1  0.1\n",
       " 14  5.8  4.0  1.2  0.2\n",
       " 15  5.7  4.4  1.5  0.4\n",
       " 16  5.4  3.9  1.3  0.4\n",
       " 17  5.1  3.5  1.4  0.3\n",
       " 18  5.7  3.8  1.7  0.3\n",
       " 19  5.1  3.8  1.5  0.3\n",
       " 20  5.4  3.4  1.7  0.2\n",
       " 21  5.1  3.7  1.5  0.4\n",
       " 22  4.6  3.6  1.0  0.2\n",
       " 23  5.1  3.3  1.7  0.5\n",
       " 24  4.8  3.4  1.9  0.2\n",
       " 25  5.0  3.0  1.6  0.2\n",
       " 26  5.0  3.4  1.6  0.4\n",
       " 27  5.2  3.5  1.5  0.2\n",
       " 28  5.2  3.4  1.4  0.2\n",
       " 29  4.7  3.2  1.6  0.2\n",
       " ..  ...  ...  ...  ...\n",
       " 70  5.9  3.2  4.8  1.8\n",
       " 71  6.1  2.8  4.0  1.3\n",
       " 72  6.3  2.5  4.9  1.5\n",
       " 73  6.1  2.8  4.7  1.2\n",
       " 74  6.4  2.9  4.3  1.3\n",
       " 75  6.6  3.0  4.4  1.4\n",
       " 76  6.8  2.8  4.8  1.4\n",
       " 77  6.7  3.0  5.0  1.7\n",
       " 78  6.0  2.9  4.5  1.5\n",
       " 79  5.7  2.6  3.5  1.0\n",
       " 80  5.5  2.4  3.8  1.1\n",
       " 81  5.5  2.4  3.7  1.0\n",
       " 82  5.8  2.7  3.9  1.2\n",
       " 83  6.0  2.7  5.1  1.6\n",
       " 84  5.4  3.0  4.5  1.5\n",
       " 85  6.0  3.4  4.5  1.6\n",
       " 86  6.7  3.1  4.7  1.5\n",
       " 87  6.3  2.3  4.4  1.3\n",
       " 88  5.6  3.0  4.1  1.3\n",
       " 89  5.5  2.5  4.0  1.3\n",
       " 90  5.5  2.6  4.4  1.2\n",
       " 91  6.1  3.0  4.6  1.4\n",
       " 92  5.8  2.6  4.0  1.2\n",
       " 93  5.0  2.3  3.3  1.0\n",
       " 94  5.6  2.7  4.2  1.3\n",
       " 95  5.7  3.0  4.2  1.2\n",
       " 96  5.7  2.9  4.2  1.3\n",
       " 97  6.2  2.9  4.3  1.3\n",
       " 98  5.1  2.5  3.0  1.1\n",
       " 99  5.7  2.8  4.1  1.3\n",
       " \n",
       " [100 rows x 4 columns],\n",
       " array([0, 0, 0, 0, 0, 0, 0, 0, 0, 0, 0, 0, 0, 0, 0, 0, 0, 0, 0, 0, 0, 0, 0,\n",
       "        0, 0, 0, 0, 0, 0, 0, 0, 0, 0, 0, 0, 0, 0, 0, 0, 0, 0, 0, 0, 0, 0, 0,\n",
       "        0, 0, 0, 0, 1, 1, 1, 1, 1, 1, 1, 1, 1, 1, 1, 1, 1, 1, 1, 1, 1, 1, 1,\n",
       "        1, 1, 1, 1, 1, 1, 1, 1, 1, 1, 1, 1, 1, 1, 1, 1, 1, 1, 1, 1, 1, 1, 1,\n",
       "        1, 1, 1, 1, 1, 1, 1, 1]))"
      ]
     },
     "execution_count": 44,
     "metadata": {},
     "output_type": "execute_result"
    }
   ],
   "source": [
    "x,y"
   ]
  },
  {
   "cell_type": "code",
   "execution_count": 53,
   "metadata": {
    "collapsed": false
   },
   "outputs": [
    {
     "name": "stdout",
     "output_type": "stream",
     "text": [
      "特征的区间值： [ 4.85000038  5.05000019  5.14999962  5.25        5.35000038  5.44999981\n",
      "  5.55000019  5.64999962  5.85000038]\n",
      "特征的区间值： [ 2.25        2.3499999   2.8499999   2.95000005  3.04999995  3.1500001\n",
      "  3.25        3.3499999   3.45000005]\n",
      "特征的区间值： [ 2.45000005]\n",
      "特征的区间值： [ 0.80000001]\n"
     ]
    },
    {
     "data": {
      "text/plain": [
       "array([[ 5.14999962,  4.4       ,  2.45000005,  0.80000001],\n",
       "       [ 5.05000019,  3.04999995,  2.45000005,  0.80000001],\n",
       "       [ 4.85000038,  3.25      ,  2.45000005,  0.80000001],\n",
       "       [ 4.85000038,  3.1500001 ,  2.45000005,  0.80000001],\n",
       "       [ 5.05000019,  4.4       ,  2.45000005,  0.80000001],\n",
       "       [ 5.44999981,  4.4       ,  2.45000005,  0.80000001],\n",
       "       [ 4.85000038,  3.45000005,  2.45000005,  0.80000001],\n",
       "       [ 5.05000019,  3.45000005,  2.45000005,  0.80000001],\n",
       "       [ 4.85000038,  2.95000005,  2.45000005,  0.80000001],\n",
       "       [ 5.05000019,  3.1500001 ,  2.45000005,  0.80000001],\n",
       "       [ 5.44999981,  4.4       ,  2.45000005,  0.80000001],\n",
       "       [ 4.85000038,  3.45000005,  2.45000005,  0.80000001],\n",
       "       [ 4.85000038,  3.04999995,  2.45000005,  0.80000001],\n",
       "       [ 4.85000038,  3.04999995,  2.45000005,  0.80000001],\n",
       "       [ 5.85000038,  4.4       ,  2.45000005,  0.80000001],\n",
       "       [ 5.85000038,  4.4       ,  2.45000005,  0.80000001],\n",
       "       [ 5.44999981,  4.4       ,  2.45000005,  0.80000001],\n",
       "       [ 5.14999962,  4.4       ,  2.45000005,  0.80000001],\n",
       "       [ 5.85000038,  4.4       ,  2.45000005,  0.80000001],\n",
       "       [ 5.14999962,  4.4       ,  2.45000005,  0.80000001],\n",
       "       [ 5.44999981,  3.45000005,  2.45000005,  0.80000001],\n",
       "       [ 5.14999962,  4.4       ,  2.45000005,  0.80000001],\n",
       "       [ 4.85000038,  4.4       ,  2.45000005,  0.80000001],\n",
       "       [ 5.14999962,  3.3499999 ,  2.45000005,  0.80000001],\n",
       "       [ 4.85000038,  3.45000005,  2.45000005,  0.80000001],\n",
       "       [ 5.05000019,  3.04999995,  2.45000005,  0.80000001],\n",
       "       [ 5.05000019,  3.45000005,  2.45000005,  0.80000001],\n",
       "       [ 5.25      ,  4.4       ,  2.45000005,  0.80000001],\n",
       "       [ 5.25      ,  3.45000005,  2.45000005,  0.80000001],\n",
       "       [ 4.85000038,  3.25      ,  2.45000005,  0.80000001],\n",
       "       [ 4.85000038,  3.1500001 ,  2.45000005,  0.80000001],\n",
       "       [ 5.44999981,  3.45000005,  2.45000005,  0.80000001],\n",
       "       [ 5.25      ,  4.4       ,  2.45000005,  0.80000001],\n",
       "       [ 5.55000019,  4.4       ,  2.45000005,  0.80000001],\n",
       "       [ 5.05000019,  3.1500001 ,  2.45000005,  0.80000001],\n",
       "       [ 5.05000019,  3.25      ,  2.45000005,  0.80000001],\n",
       "       [ 5.55000019,  4.4       ,  2.45000005,  0.80000001],\n",
       "       [ 5.05000019,  3.1500001 ,  2.45000005,  0.80000001],\n",
       "       [ 4.85000038,  3.04999995,  2.45000005,  0.80000001],\n",
       "       [ 5.14999962,  3.45000005,  2.45000005,  0.80000001],\n",
       "       [ 5.05000019,  4.4       ,  2.45000005,  0.80000001],\n",
       "       [ 4.85000038,  2.3499999 ,  2.45000005,  0.80000001],\n",
       "       [ 4.85000038,  3.25      ,  2.45000005,  0.80000001],\n",
       "       [ 5.05000019,  4.4       ,  2.45000005,  0.80000001],\n",
       "       [ 5.14999962,  4.4       ,  2.45000005,  0.80000001],\n",
       "       [ 4.85000038,  3.04999995,  2.45000005,  0.80000001],\n",
       "       [ 5.14999962,  4.4       ,  2.45000005,  0.80000001],\n",
       "       [ 4.85000038,  3.25      ,  2.45000005,  0.80000001],\n",
       "       [ 5.35000038,  4.4       ,  2.45000005,  0.80000001],\n",
       "       [ 5.05000019,  3.3499999 ,  2.45000005,  0.80000001],\n",
       "       [ 7.        ,  3.25      ,  5.1       ,  1.8       ],\n",
       "       [ 7.        ,  3.25      ,  5.1       ,  1.8       ],\n",
       "       [ 7.        ,  3.1500001 ,  5.1       ,  1.8       ],\n",
       "       [ 5.55000019,  2.3499999 ,  5.1       ,  1.8       ],\n",
       "       [ 7.        ,  2.8499999 ,  5.1       ,  1.8       ],\n",
       "       [ 5.85000038,  2.8499999 ,  5.1       ,  1.8       ],\n",
       "       [ 7.        ,  3.3499999 ,  5.1       ,  1.8       ],\n",
       "       [ 5.05000019,  2.8499999 ,  5.1       ,  1.8       ],\n",
       "       [ 7.        ,  2.95000005,  5.1       ,  1.8       ],\n",
       "       [ 5.25      ,  2.8499999 ,  5.1       ,  1.8       ],\n",
       "       [ 5.05000019,  2.25      ,  5.1       ,  1.8       ],\n",
       "       [ 7.        ,  3.04999995,  5.1       ,  1.8       ],\n",
       "       [ 7.        ,  2.25      ,  5.1       ,  1.8       ],\n",
       "       [ 7.        ,  2.95000005,  5.1       ,  1.8       ],\n",
       "       [ 5.64999962,  2.95000005,  5.1       ,  1.8       ],\n",
       "       [ 7.        ,  3.1500001 ,  5.1       ,  1.8       ],\n",
       "       [ 5.64999962,  3.04999995,  5.1       ,  1.8       ],\n",
       "       [ 5.85000038,  2.8499999 ,  5.1       ,  1.8       ],\n",
       "       [ 7.        ,  2.25      ,  5.1       ,  1.8       ],\n",
       "       [ 5.64999962,  2.8499999 ,  5.1       ,  1.8       ],\n",
       "       [ 7.        ,  3.25      ,  5.1       ,  1.8       ],\n",
       "       [ 7.        ,  2.8499999 ,  5.1       ,  1.8       ],\n",
       "       [ 7.        ,  2.8499999 ,  5.1       ,  1.8       ],\n",
       "       [ 7.        ,  2.8499999 ,  5.1       ,  1.8       ],\n",
       "       [ 7.        ,  2.95000005,  5.1       ,  1.8       ],\n",
       "       [ 7.        ,  3.04999995,  5.1       ,  1.8       ],\n",
       "       [ 7.        ,  2.8499999 ,  5.1       ,  1.8       ],\n",
       "       [ 7.        ,  3.04999995,  5.1       ,  1.8       ],\n",
       "       [ 7.        ,  2.95000005,  5.1       ,  1.8       ],\n",
       "       [ 5.85000038,  2.8499999 ,  5.1       ,  1.8       ],\n",
       "       [ 5.55000019,  2.8499999 ,  5.1       ,  1.8       ],\n",
       "       [ 5.55000019,  2.8499999 ,  5.1       ,  1.8       ],\n",
       "       [ 5.85000038,  2.8499999 ,  5.1       ,  1.8       ],\n",
       "       [ 7.        ,  2.8499999 ,  5.1       ,  1.8       ],\n",
       "       [ 5.44999981,  3.04999995,  5.1       ,  1.8       ],\n",
       "       [ 7.        ,  3.45000005,  5.1       ,  1.8       ],\n",
       "       [ 7.        ,  3.1500001 ,  5.1       ,  1.8       ],\n",
       "       [ 7.        ,  2.3499999 ,  5.1       ,  1.8       ],\n",
       "       [ 5.64999962,  3.04999995,  5.1       ,  1.8       ],\n",
       "       [ 5.55000019,  2.8499999 ,  5.1       ,  1.8       ],\n",
       "       [ 5.55000019,  2.8499999 ,  5.1       ,  1.8       ],\n",
       "       [ 7.        ,  3.04999995,  5.1       ,  1.8       ],\n",
       "       [ 5.85000038,  2.8499999 ,  5.1       ,  1.8       ],\n",
       "       [ 5.05000019,  2.3499999 ,  5.1       ,  1.8       ],\n",
       "       [ 5.64999962,  2.8499999 ,  5.1       ,  1.8       ],\n",
       "       [ 5.85000038,  3.04999995,  5.1       ,  1.8       ],\n",
       "       [ 5.85000038,  2.95000005,  5.1       ,  1.8       ],\n",
       "       [ 7.        ,  2.95000005,  5.1       ,  1.8       ],\n",
       "       [ 5.14999962,  2.8499999 ,  5.1       ,  1.8       ],\n",
       "       [ 5.85000038,  2.8499999 ,  5.1       ,  1.8       ]])"
      ]
     },
     "execution_count": 53,
     "metadata": {},
     "output_type": "execute_result"
    }
   ],
   "source": [
    "from ClassTreeBinTools import TreeBinTools\n",
    "tb=TreeBinTools(x,y)\n",
    "x_new=tb.fit_transform(x,y)\n",
    "x_new"
   ]
  },
  {
   "cell_type": "code",
   "execution_count": null,
   "metadata": {
    "collapsed": true
   },
   "outputs": [],
   "source": []
  },
  {
   "cell_type": "code",
   "execution_count": 39,
   "metadata": {
    "collapsed": false
   },
   "outputs": [
    {
     "name": "stdout",
     "output_type": "stream",
     "text": [
      "特征的区间值： [ 4.85000038  5.05000019  5.14999962  5.25        5.35000038  5.44999981\n",
      "  5.55000019  5.64999962  5.85000038]\n",
      "特征的区间值： [ 2.25        2.3499999   2.8499999   2.95000005  3.04999995  3.1500001\n",
      "  3.25        3.3499999   3.45000005]\n",
      "特征的区间值： [ 2.45000005]\n",
      "特征的区间值： [ 0.80000001]\n"
     ]
    },
    {
     "data": {
      "text/plain": [
       "FunctionTransformer(accept_sparse=False,\n",
       "          func=array([[ 5.15,  4.4 ,  2.45,  0.8 ],\n",
       "       [ 5.05,  3.05,  2.45,  0.8 ],\n",
       "       ...,\n",
       "       [ 5.15,  2.85,  5.1 ,  1.8 ],\n",
       "       [ 5.85,  2.85,  5.1 ,  1.8 ]]),\n",
       "          inv_kw_args=None, inverse_func=None, kw_args=None, pass_y=False,\n",
       "          validate=True)"
      ]
     },
     "execution_count": 39,
     "metadata": {},
     "output_type": "execute_result"
    }
   ],
   "source": [
    "from sklearn.preprocessing import FunctionTransformer\n",
    "t=FunctionTransformer(tb.fit_transform(x,y))\n",
    "t.fit(x,y)"
   ]
  },
  {
   "cell_type": "code",
   "execution_count": 40,
   "metadata": {
    "collapsed": false
   },
   "outputs": [
    {
     "data": {
      "text/plain": [
       "pandas.core.frame.DataFrame"
      ]
     },
     "execution_count": 40,
     "metadata": {},
     "output_type": "execute_result"
    }
   ],
   "source": [
    "import pandas as pd\n",
    "data=pd.DataFrame(x,columns=[\"a\",\"b\",\"c\",\"d\"])\n",
    "data.head()\n",
    "type(data)"
   ]
  },
  {
   "cell_type": "code",
   "execution_count": 81,
   "metadata": {
    "collapsed": false
   },
   "outputs": [
    {
     "data": {
      "text/plain": [
       "numpy.ndarray"
      ]
     },
     "execution_count": 81,
     "metadata": {},
     "output_type": "execute_result"
    }
   ],
   "source": [
    "type(s['A'].values.reshape(s['A'].shape[0],1))"
   ]
  },
  {
   "cell_type": "code",
   "execution_count": 79,
   "metadata": {
    "collapsed": false
   },
   "outputs": [
    {
     "data": {
      "text/plain": [
       "(100,)"
      ]
     },
     "execution_count": 79,
     "metadata": {},
     "output_type": "execute_result"
    }
   ],
   "source": [
    "import numpy as np\n",
    "from sklearn.tree import DecisionTreeClassifier, _tree\n",
    "\n",
    "clf = DecisionTreeClassifier(criterion=\"entropy\", max_depth=10, max_leaf_nodes=10)\n",
    "clf.fit(s,y)\n",
    "s['A'].shape"
   ]
  },
  {
   "cell_type": "code",
   "execution_count": 67,
   "metadata": {
    "collapsed": false
   },
   "outputs": [
    {
     "data": {
      "text/plain": [
       "array([0, 0, 0, 0, 0, 0, 0, 0, 0, 0, 0, 0, 0, 0, 0, 0, 0, 0, 0, 0, 0, 0, 0,\n",
       "       0, 0, 0, 0, 0, 0, 0, 0, 0, 0, 0, 0, 0, 0, 0, 0, 0, 0, 0, 0, 0, 0, 0,\n",
       "       0, 0, 0, 0, 1, 1, 1, 1, 1, 1, 1, 1, 1, 1, 1, 1, 1, 1, 1, 1, 1, 1, 1,\n",
       "       1, 1, 1, 1, 1, 1, 1, 1, 1, 1, 1, 1, 1, 1, 1, 1, 1, 1, 1, 1, 1, 1, 1,\n",
       "       1, 1, 1, 1, 1, 1, 1, 1])"
      ]
     },
     "execution_count": 67,
     "metadata": {},
     "output_type": "execute_result"
    }
   ],
   "source": [
    "y=y\n",
    "# s['A'].apply(lambda x: tree_split_discrete(x,y))\n",
    "y"
   ]
  },
  {
   "cell_type": "code",
   "execution_count": 92,
   "metadata": {
    "collapsed": true,
    "scrolled": true
   },
   "outputs": [],
   "source": [
    "# s['A'].apply(lambda x: tree_split_discrete(x,y))\n",
    "# x=s['A'].values.reshape(s['A'].shape[0],1)\n",
    "# print(x,type(x))\n",
    "# print(x.shape)\n",
    "# y\n",
    "# tree_split_discrete(x,y)"
   ]
  },
  {
   "cell_type": "code",
   "execution_count": 94,
   "metadata": {
    "collapsed": false
   },
   "outputs": [
    {
     "data": {
      "text/html": [
       "<div>\n",
       "<style>\n",
       "    .dataframe thead tr:only-child th {\n",
       "        text-align: right;\n",
       "    }\n",
       "\n",
       "    .dataframe thead th {\n",
       "        text-align: left;\n",
       "    }\n",
       "\n",
       "    .dataframe tbody tr th {\n",
       "        vertical-align: top;\n",
       "    }\n",
       "</style>\n",
       "<table border=\"1\" class=\"dataframe\">\n",
       "  <thead>\n",
       "    <tr style=\"text-align: right;\">\n",
       "      <th></th>\n",
       "      <th>A</th>\n",
       "      <th>B</th>\n",
       "      <th>C</th>\n",
       "      <th>D</th>\n",
       "    </tr>\n",
       "  </thead>\n",
       "  <tbody>\n",
       "    <tr>\n",
       "      <th>0</th>\n",
       "      <td>5.15</td>\n",
       "      <td>4.40</td>\n",
       "      <td>2.45</td>\n",
       "      <td>0.8</td>\n",
       "    </tr>\n",
       "    <tr>\n",
       "      <th>1</th>\n",
       "      <td>5.05</td>\n",
       "      <td>3.05</td>\n",
       "      <td>2.45</td>\n",
       "      <td>0.8</td>\n",
       "    </tr>\n",
       "    <tr>\n",
       "      <th>2</th>\n",
       "      <td>4.85</td>\n",
       "      <td>3.25</td>\n",
       "      <td>2.45</td>\n",
       "      <td>0.8</td>\n",
       "    </tr>\n",
       "    <tr>\n",
       "      <th>3</th>\n",
       "      <td>4.85</td>\n",
       "      <td>3.15</td>\n",
       "      <td>2.45</td>\n",
       "      <td>0.8</td>\n",
       "    </tr>\n",
       "    <tr>\n",
       "      <th>4</th>\n",
       "      <td>5.05</td>\n",
       "      <td>4.40</td>\n",
       "      <td>2.45</td>\n",
       "      <td>0.8</td>\n",
       "    </tr>\n",
       "  </tbody>\n",
       "</table>\n",
       "</div>"
      ],
      "text/plain": [
       "      A     B     C    D\n",
       "0  5.15  4.40  2.45  0.8\n",
       "1  5.05  3.05  2.45  0.8\n",
       "2  4.85  3.25  2.45  0.8\n",
       "3  4.85  3.15  2.45  0.8\n",
       "4  5.05  4.40  2.45  0.8"
      ]
     },
     "execution_count": 94,
     "metadata": {},
     "output_type": "execute_result"
    }
   ],
   "source": [
    "s_new=s.apply(lambda x: tree_split_discrete(x,y),axis=0)\n",
    "s_new.head()"
   ]
  },
  {
   "cell_type": "code",
   "execution_count": 49,
   "metadata": {
    "collapsed": true
   },
   "outputs": [],
   "source": [
    "def tree_split_discrete(x, y):\n",
    "    from sklearn.tree import DecisionTreeClassifier, _tree\n",
    "    import numpy as np\n",
    "    clf = DecisionTreeClassifier(criterion=\"entropy\", max_depth=10, max_leaf_nodes=10)\n",
    "    x = x.reshape(x.shape[0], 1)\n",
    "    clf.fit(x, y)\n",
    "    count_leaf = 0\n",
    "    for i in clf.tree_.children_left:\n",
    "        if i == _tree.TREE_LEAF:\n",
    "            count_leaf += 1\n",
    "    count_leaf\n",
    "\n",
    "    threshold = clf.tree_.threshold  # 所有的节点全部是<=\n",
    "    # threshold=np.sort(threshold)[count_leaf:]\n",
    "    # #这种方式不太好，如果有小于-2的排序就会出问题。\n",
    "    #  -2的数目和叶子数相同 后面需要排除掉-2的值\n",
    "    count = 0\n",
    "    for i in threshold:\n",
    "        if i == -2: count += 1\n",
    "\n",
    "    new_threshold = list(filter(lambda x: x != -2, threshold))\n",
    "\n",
    "    if count > count_leaf: new_threshold += [-2]\n",
    "\n",
    "    new_threshold_2 = np.sort(new_threshold)\n",
    "\n",
    "    thres_index = np.asarray(new_threshold_2).searchsorted(x, side='right')  # 注意这里的 right 表示的是<=\n",
    "    thres_index = thres_index.ravel()\n",
    "    x_new = []\n",
    "    for i in range(len(x)):\n",
    "        if thres_index[i] + 1 <= len(new_threshold_2):\n",
    "            x_new.append(new_threshold_2[thres_index[i]])\n",
    "        else:\n",
    "            x_new.append(x.max())  # 这里后面可以修改\n",
    "    return x_new  # 返回的数值是右侧的等于的值\n",
    "\n"
   ]
  },
  {
   "cell_type": "code",
   "execution_count": 52,
   "metadata": {
    "collapsed": false
   },
   "outputs": [],
   "source": [
    "import numpy as np\n",
    "# np.log2(x)"
   ]
  },
  {
   "cell_type": "code",
   "execution_count": 50,
   "metadata": {
    "collapsed": false
   },
   "outputs": [
    {
     "ename": "ValueError",
     "evalue": "cannot reshape array of size 400 into shape (100,1)",
     "output_type": "error",
     "traceback": [
      "\u001b[0;31m---------------------------------------------------------------------------\u001b[0m",
      "\u001b[0;31mValueError\u001b[0m                                Traceback (most recent call last)",
      "\u001b[0;32m<ipython-input-50-0d53f7c8ef9d>\u001b[0m in \u001b[0;36m<module>\u001b[0;34m()\u001b[0m\n\u001b[1;32m      4\u001b[0m \u001b[0;34m\u001b[0m\u001b[0m\n\u001b[1;32m      5\u001b[0m \u001b[0mtreebin\u001b[0m\u001b[0;34m.\u001b[0m\u001b[0mfit\u001b[0m\u001b[0;34m(\u001b[0m\u001b[0mx\u001b[0m\u001b[0;34m,\u001b[0m\u001b[0my\u001b[0m\u001b[0;34m)\u001b[0m\u001b[0;34m\u001b[0m\u001b[0m\n\u001b[0;32m----> 6\u001b[0;31m \u001b[0mx_new\u001b[0m\u001b[0;34m=\u001b[0m\u001b[0mtreebin\u001b[0m\u001b[0;34m.\u001b[0m\u001b[0mfit_transform\u001b[0m\u001b[0;34m(\u001b[0m\u001b[0mx\u001b[0m\u001b[0;34m,\u001b[0m\u001b[0my\u001b[0m\u001b[0;34m)\u001b[0m\u001b[0;34m\u001b[0m\u001b[0m\n\u001b[0m",
      "\u001b[0;32m/Users/xiaolin/anaconda3/lib/python3.6/site-packages/sklearn/base.py\u001b[0m in \u001b[0;36mfit_transform\u001b[0;34m(self, X, y, **fit_params)\u001b[0m\n\u001b[1;32m    495\u001b[0m         \u001b[0;32melse\u001b[0m\u001b[0;34m:\u001b[0m\u001b[0;34m\u001b[0m\u001b[0m\n\u001b[1;32m    496\u001b[0m             \u001b[0;31m# fit method of arity 2 (supervised transformation)\u001b[0m\u001b[0;34m\u001b[0m\u001b[0;34m\u001b[0m\u001b[0m\n\u001b[0;32m--> 497\u001b[0;31m             \u001b[0;32mreturn\u001b[0m \u001b[0mself\u001b[0m\u001b[0;34m.\u001b[0m\u001b[0mfit\u001b[0m\u001b[0;34m(\u001b[0m\u001b[0mX\u001b[0m\u001b[0;34m,\u001b[0m \u001b[0my\u001b[0m\u001b[0;34m,\u001b[0m \u001b[0;34m**\u001b[0m\u001b[0mfit_params\u001b[0m\u001b[0;34m)\u001b[0m\u001b[0;34m.\u001b[0m\u001b[0mtransform\u001b[0m\u001b[0;34m(\u001b[0m\u001b[0mX\u001b[0m\u001b[0;34m)\u001b[0m\u001b[0;34m\u001b[0m\u001b[0m\n\u001b[0m\u001b[1;32m    498\u001b[0m \u001b[0;34m\u001b[0m\u001b[0m\n\u001b[1;32m    499\u001b[0m \u001b[0;34m\u001b[0m\u001b[0m\n",
      "\u001b[0;32m/Users/xiaolin/anaconda3/lib/python3.6/site-packages/sklearn/preprocessing/_function_transformer.py\u001b[0m in \u001b[0;36mtransform\u001b[0;34m(self, X, y)\u001b[0m\n\u001b[1;32m     79\u001b[0m \u001b[0;34m\u001b[0m\u001b[0m\n\u001b[1;32m     80\u001b[0m     \u001b[0;32mdef\u001b[0m \u001b[0mtransform\u001b[0m\u001b[0;34m(\u001b[0m\u001b[0mself\u001b[0m\u001b[0;34m,\u001b[0m \u001b[0mX\u001b[0m\u001b[0;34m,\u001b[0m \u001b[0my\u001b[0m\u001b[0;34m=\u001b[0m\u001b[0;32mNone\u001b[0m\u001b[0;34m)\u001b[0m\u001b[0;34m:\u001b[0m\u001b[0;34m\u001b[0m\u001b[0m\n\u001b[0;32m---> 81\u001b[0;31m         \u001b[0;32mreturn\u001b[0m \u001b[0mself\u001b[0m\u001b[0;34m.\u001b[0m\u001b[0m_transform\u001b[0m\u001b[0;34m(\u001b[0m\u001b[0mX\u001b[0m\u001b[0;34m,\u001b[0m \u001b[0my\u001b[0m\u001b[0;34m,\u001b[0m \u001b[0mself\u001b[0m\u001b[0;34m.\u001b[0m\u001b[0mfunc\u001b[0m\u001b[0;34m,\u001b[0m \u001b[0mself\u001b[0m\u001b[0;34m.\u001b[0m\u001b[0mkw_args\u001b[0m\u001b[0;34m)\u001b[0m\u001b[0;34m\u001b[0m\u001b[0m\n\u001b[0m\u001b[1;32m     82\u001b[0m \u001b[0;34m\u001b[0m\u001b[0m\n\u001b[1;32m     83\u001b[0m     \u001b[0;32mdef\u001b[0m \u001b[0minverse_transform\u001b[0m\u001b[0;34m(\u001b[0m\u001b[0mself\u001b[0m\u001b[0;34m,\u001b[0m \u001b[0mX\u001b[0m\u001b[0;34m,\u001b[0m \u001b[0my\u001b[0m\u001b[0;34m=\u001b[0m\u001b[0;32mNone\u001b[0m\u001b[0;34m)\u001b[0m\u001b[0;34m:\u001b[0m\u001b[0;34m\u001b[0m\u001b[0m\n",
      "\u001b[0;32m/Users/xiaolin/anaconda3/lib/python3.6/site-packages/sklearn/preprocessing/_function_transformer.py\u001b[0m in \u001b[0;36m_transform\u001b[0;34m(self, X, y, func, kw_args)\u001b[0m\n\u001b[1;32m     92\u001b[0m \u001b[0;34m\u001b[0m\u001b[0m\n\u001b[1;32m     93\u001b[0m         return func(X, *((y,) if self.pass_y else ()),\n\u001b[0;32m---> 94\u001b[0;31m                     **(kw_args if kw_args else {}))\n\u001b[0m",
      "\u001b[0;32m<ipython-input-49-79199a5863f5>\u001b[0m in \u001b[0;36mtree_split_discrete\u001b[0;34m(x, y)\u001b[0m\n\u001b[1;32m      3\u001b[0m     \u001b[0;32mimport\u001b[0m \u001b[0mnumpy\u001b[0m \u001b[0;32mas\u001b[0m \u001b[0mnp\u001b[0m\u001b[0;34m\u001b[0m\u001b[0m\n\u001b[1;32m      4\u001b[0m     \u001b[0mclf\u001b[0m \u001b[0;34m=\u001b[0m \u001b[0mDecisionTreeClassifier\u001b[0m\u001b[0;34m(\u001b[0m\u001b[0mcriterion\u001b[0m\u001b[0;34m=\u001b[0m\u001b[0;34m\"entropy\"\u001b[0m\u001b[0;34m,\u001b[0m \u001b[0mmax_depth\u001b[0m\u001b[0;34m=\u001b[0m\u001b[0;36m10\u001b[0m\u001b[0;34m,\u001b[0m \u001b[0mmax_leaf_nodes\u001b[0m\u001b[0;34m=\u001b[0m\u001b[0;36m10\u001b[0m\u001b[0;34m)\u001b[0m\u001b[0;34m\u001b[0m\u001b[0m\n\u001b[0;32m----> 5\u001b[0;31m     \u001b[0mx\u001b[0m \u001b[0;34m=\u001b[0m \u001b[0mx\u001b[0m\u001b[0;34m.\u001b[0m\u001b[0mreshape\u001b[0m\u001b[0;34m(\u001b[0m\u001b[0mx\u001b[0m\u001b[0;34m.\u001b[0m\u001b[0mshape\u001b[0m\u001b[0;34m[\u001b[0m\u001b[0;36m0\u001b[0m\u001b[0;34m]\u001b[0m\u001b[0;34m,\u001b[0m \u001b[0;36m1\u001b[0m\u001b[0;34m)\u001b[0m\u001b[0;34m\u001b[0m\u001b[0m\n\u001b[0m\u001b[1;32m      6\u001b[0m     \u001b[0mclf\u001b[0m\u001b[0;34m.\u001b[0m\u001b[0mfit\u001b[0m\u001b[0;34m(\u001b[0m\u001b[0mx\u001b[0m\u001b[0;34m,\u001b[0m \u001b[0my\u001b[0m\u001b[0;34m)\u001b[0m\u001b[0;34m\u001b[0m\u001b[0m\n\u001b[1;32m      7\u001b[0m     \u001b[0mcount_leaf\u001b[0m \u001b[0;34m=\u001b[0m \u001b[0;36m0\u001b[0m\u001b[0;34m\u001b[0m\u001b[0m\n",
      "\u001b[0;31mValueError\u001b[0m: cannot reshape array of size 400 into shape (100,1)"
     ]
    }
   ],
   "source": [
    "from sklearn.preprocessing import FunctionTransformer\n",
    "\n",
    "treebin=FunctionTransformer(tree_split_discrete,pass_y=True)\n",
    "\n",
    "treebin.fit(x,y)\n",
    "x_new=treebin.fit_transform(x,y)"
   ]
  },
  {
   "cell_type": "code",
   "execution_count": null,
   "metadata": {
    "collapsed": true
   },
   "outputs": [],
   "source": []
  }
 ],
 "metadata": {
  "kernelspec": {
   "display_name": "Python 3",
   "language": "python",
   "name": "python3"
  },
  "language_info": {
   "codemirror_mode": {
    "name": "ipython",
    "version": 3
   },
   "file_extension": ".py",
   "mimetype": "text/x-python",
   "name": "python",
   "nbconvert_exporter": "python",
   "pygments_lexer": "ipython3",
   "version": "3.6.0"
  }
 },
 "nbformat": 4,
 "nbformat_minor": 0
}
