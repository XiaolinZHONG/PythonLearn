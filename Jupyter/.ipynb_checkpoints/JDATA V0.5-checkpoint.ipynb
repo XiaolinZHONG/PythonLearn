{
 "cells": [
  {
   "cell_type": "markdown",
   "metadata": {
    "collapsed": true
   },
   "source": [
    "+ make_samples \n",
    "+ analysis corr\n",
    "+ importance"
   ]
  },
  {
   "cell_type": "code",
   "execution_count": 2,
   "metadata": {
    "collapsed": false
   },
   "outputs": [
    {
     "name": "stdout",
     "output_type": "stream",
     "text": [
      "1\n",
      "Iteration is stopped.\n",
      "DONE\n"
     ]
    }
   ],
   "source": [
    "import pandas as pd\n",
    "import numpy as np\n",
    "\n",
    "\n",
    "address=\"~/Desktop/dataAnalysis/JDATA/JData/JData_samples.csv\"\n",
    "\n",
    "def read_data(address):\n",
    "    reader = pd.read_csv(address, sep = ',', iterator = True,parse_dates=True)\n",
    "    chunks = []\n",
    "    loop = True\n",
    "    i = 1\n",
    "    while loop:\n",
    "        try:\n",
    "            chunk = reader.get_chunk(30000000)\n",
    "            chunks.append(chunk)\n",
    "            print (i)\n",
    "            i += 1\n",
    "        except StopIteration:\n",
    "            loop = False\n",
    "            print ('Iteration is stopped.')\n",
    "    data = pd.concat(chunks, ignore_index = True)\n",
    "    print(\"DONE\")\n",
    "    return data\n",
    "\n",
    "df_sample_0=read_data(address)"
   ]
  },
  {
   "cell_type": "code",
   "execution_count": 4,
   "metadata": {
    "collapsed": false
   },
   "outputs": [
    {
     "data": {
      "text/html": [
       "<div>\n",
       "<table border=\"1\" class=\"dataframe\">\n",
       "  <thead>\n",
       "    <tr style=\"text-align: right;\">\n",
       "      <th></th>\n",
       "      <th>user_id</th>\n",
       "      <th>sku_id</th>\n",
       "      <th>view</th>\n",
       "      <th>add</th>\n",
       "      <th>delet</th>\n",
       "      <th>fellow</th>\n",
       "      <th>click</th>\n",
       "      <th>label</th>\n",
       "      <th>comment_num</th>\n",
       "      <th>has_bad_comment</th>\n",
       "      <th>bad_comment_rate</th>\n",
       "      <th>a1</th>\n",
       "      <th>a2</th>\n",
       "      <th>a3</th>\n",
       "      <th>cate</th>\n",
       "      <th>brand</th>\n",
       "      <th>sex</th>\n",
       "      <th>user_lv_cd</th>\n",
       "      <th>age2</th>\n",
       "      <th>reg_days</th>\n",
       "    </tr>\n",
       "  </thead>\n",
       "  <tbody>\n",
       "    <tr>\n",
       "      <th>0</th>\n",
       "      <td>232909.0</td>\n",
       "      <td>168651.0</td>\n",
       "      <td>1.0</td>\n",
       "      <td>0.0</td>\n",
       "      <td>0.0</td>\n",
       "      <td>0.0</td>\n",
       "      <td>5.0</td>\n",
       "      <td>0.0</td>\n",
       "      <td>4</td>\n",
       "      <td>0</td>\n",
       "      <td>0.0</td>\n",
       "      <td>3</td>\n",
       "      <td>1</td>\n",
       "      <td>1</td>\n",
       "      <td>8</td>\n",
       "      <td>214</td>\n",
       "      <td>2.0</td>\n",
       "      <td>3</td>\n",
       "      <td>40.0</td>\n",
       "      <td>742.0</td>\n",
       "    </tr>\n",
       "    <tr>\n",
       "      <th>1</th>\n",
       "      <td>232909.0</td>\n",
       "      <td>168651.0</td>\n",
       "      <td>1.0</td>\n",
       "      <td>0.0</td>\n",
       "      <td>0.0</td>\n",
       "      <td>0.0</td>\n",
       "      <td>5.0</td>\n",
       "      <td>0.0</td>\n",
       "      <td>4</td>\n",
       "      <td>0</td>\n",
       "      <td>0.0</td>\n",
       "      <td>3</td>\n",
       "      <td>1</td>\n",
       "      <td>1</td>\n",
       "      <td>8</td>\n",
       "      <td>214</td>\n",
       "      <td>2.0</td>\n",
       "      <td>3</td>\n",
       "      <td>40.0</td>\n",
       "      <td>742.0</td>\n",
       "    </tr>\n",
       "    <tr>\n",
       "      <th>2</th>\n",
       "      <td>232909.0</td>\n",
       "      <td>168651.0</td>\n",
       "      <td>1.0</td>\n",
       "      <td>0.0</td>\n",
       "      <td>0.0</td>\n",
       "      <td>0.0</td>\n",
       "      <td>5.0</td>\n",
       "      <td>0.0</td>\n",
       "      <td>4</td>\n",
       "      <td>0</td>\n",
       "      <td>0.0</td>\n",
       "      <td>3</td>\n",
       "      <td>1</td>\n",
       "      <td>1</td>\n",
       "      <td>8</td>\n",
       "      <td>214</td>\n",
       "      <td>2.0</td>\n",
       "      <td>3</td>\n",
       "      <td>40.0</td>\n",
       "      <td>742.0</td>\n",
       "    </tr>\n",
       "    <tr>\n",
       "      <th>3</th>\n",
       "      <td>232909.0</td>\n",
       "      <td>168651.0</td>\n",
       "      <td>1.0</td>\n",
       "      <td>0.0</td>\n",
       "      <td>0.0</td>\n",
       "      <td>0.0</td>\n",
       "      <td>5.0</td>\n",
       "      <td>0.0</td>\n",
       "      <td>4</td>\n",
       "      <td>0</td>\n",
       "      <td>0.0</td>\n",
       "      <td>3</td>\n",
       "      <td>1</td>\n",
       "      <td>1</td>\n",
       "      <td>8</td>\n",
       "      <td>214</td>\n",
       "      <td>2.0</td>\n",
       "      <td>3</td>\n",
       "      <td>40.0</td>\n",
       "      <td>742.0</td>\n",
       "    </tr>\n",
       "    <tr>\n",
       "      <th>4</th>\n",
       "      <td>232909.0</td>\n",
       "      <td>168651.0</td>\n",
       "      <td>1.0</td>\n",
       "      <td>0.0</td>\n",
       "      <td>0.0</td>\n",
       "      <td>0.0</td>\n",
       "      <td>5.0</td>\n",
       "      <td>0.0</td>\n",
       "      <td>4</td>\n",
       "      <td>0</td>\n",
       "      <td>0.0</td>\n",
       "      <td>3</td>\n",
       "      <td>1</td>\n",
       "      <td>1</td>\n",
       "      <td>8</td>\n",
       "      <td>214</td>\n",
       "      <td>2.0</td>\n",
       "      <td>3</td>\n",
       "      <td>40.0</td>\n",
       "      <td>742.0</td>\n",
       "    </tr>\n",
       "  </tbody>\n",
       "</table>\n",
       "</div>"
      ],
      "text/plain": [
       "    user_id    sku_id  view  add  delet  fellow  click  label  comment_num  \\\n",
       "0  232909.0  168651.0   1.0  0.0    0.0     0.0    5.0    0.0            4   \n",
       "1  232909.0  168651.0   1.0  0.0    0.0     0.0    5.0    0.0            4   \n",
       "2  232909.0  168651.0   1.0  0.0    0.0     0.0    5.0    0.0            4   \n",
       "3  232909.0  168651.0   1.0  0.0    0.0     0.0    5.0    0.0            4   \n",
       "4  232909.0  168651.0   1.0  0.0    0.0     0.0    5.0    0.0            4   \n",
       "\n",
       "   has_bad_comment  bad_comment_rate  a1  a2  a3  cate  brand  sex  \\\n",
       "0                0               0.0   3   1   1     8    214  2.0   \n",
       "1                0               0.0   3   1   1     8    214  2.0   \n",
       "2                0               0.0   3   1   1     8    214  2.0   \n",
       "3                0               0.0   3   1   1     8    214  2.0   \n",
       "4                0               0.0   3   1   1     8    214  2.0   \n",
       "\n",
       "   user_lv_cd  age2  reg_days  \n",
       "0           3  40.0     742.0  \n",
       "1           3  40.0     742.0  \n",
       "2           3  40.0     742.0  \n",
       "3           3  40.0     742.0  \n",
       "4           3  40.0     742.0  "
      ]
     },
     "execution_count": 4,
     "metadata": {},
     "output_type": "execute_result"
    }
   ],
   "source": [
    "# df_all_3=df_sample_0.drop([\"dt\",\"user_reg_tm\",\"today\",\"age\"],1)\n",
    "# df_all_3.head()\n",
    "df_sample_0[\"label\"]=df_sample_0[\"label\"].apply(lambda x: 1 if x>=1 else x)\n",
    "df_sample_0.head()"
   ]
  },
  {
   "cell_type": "code",
   "execution_count": 5,
   "metadata": {
    "collapsed": false
   },
   "outputs": [
    {
     "data": {
      "text/plain": [
       "0.0    976596\n",
       "1.0    154152\n",
       "Name: label, dtype: int64"
      ]
     },
     "execution_count": 5,
     "metadata": {},
     "output_type": "execute_result"
    }
   ],
   "source": [
    "df_sample_0[\"label\"].value_counts()"
   ]
  },
  {
   "cell_type": "code",
   "execution_count": 14,
   "metadata": {
    "collapsed": false
   },
   "outputs": [],
   "source": [
    "x_0=df_sample_0[df_sample_0.label==0].sample(154152)\n",
    "x_1=df_sample_0[df_sample_0.label==1]\n",
    "df_s=pd.concat([x_0,x_1],ignore_index = True)\n",
    "from sklearn.utils import shuffle\n",
    "df_s=shuffle(df_s)\n",
    "y=np.array(df_s[\"label\"]).ravel()\n",
    "x=df_s.drop([\"label\",\"user_id\",\"sku_id\",\"cate\",\"click\"],1).fillna(-900)"
   ]
  },
  {
   "cell_type": "code",
   "execution_count": 16,
   "metadata": {
    "collapsed": false
   },
   "outputs": [
    {
     "name": "stdout",
     "output_type": "stream",
     "text": [
      "(308304, 15) (308304,)\n"
     ]
    }
   ],
   "source": [
    "print(x.shape,y.shape)"
   ]
  },
  {
   "cell_type": "code",
   "execution_count": 15,
   "metadata": {
    "collapsed": false
   },
   "outputs": [
    {
     "data": {
      "text/html": [
       "<div>\n",
       "<table border=\"1\" class=\"dataframe\">\n",
       "  <thead>\n",
       "    <tr style=\"text-align: right;\">\n",
       "      <th></th>\n",
       "      <th>view</th>\n",
       "      <th>add</th>\n",
       "      <th>delet</th>\n",
       "      <th>fellow</th>\n",
       "      <th>comment_num</th>\n",
       "      <th>has_bad_comment</th>\n",
       "      <th>bad_comment_rate</th>\n",
       "      <th>a1</th>\n",
       "      <th>a2</th>\n",
       "      <th>a3</th>\n",
       "      <th>brand</th>\n",
       "      <th>sex</th>\n",
       "      <th>user_lv_cd</th>\n",
       "      <th>age2</th>\n",
       "      <th>reg_days</th>\n",
       "    </tr>\n",
       "  </thead>\n",
       "  <tbody>\n",
       "    <tr>\n",
       "      <th>251373</th>\n",
       "      <td>4.0</td>\n",
       "      <td>1.0</td>\n",
       "      <td>0.0</td>\n",
       "      <td>0.0</td>\n",
       "      <td>4</td>\n",
       "      <td>1</td>\n",
       "      <td>0.0187</td>\n",
       "      <td>1</td>\n",
       "      <td>1</td>\n",
       "      <td>1</td>\n",
       "      <td>545</td>\n",
       "      <td>2.0</td>\n",
       "      <td>4</td>\n",
       "      <td>30.0</td>\n",
       "      <td>1011.0</td>\n",
       "    </tr>\n",
       "    <tr>\n",
       "      <th>268250</th>\n",
       "      <td>41.0</td>\n",
       "      <td>2.0</td>\n",
       "      <td>1.0</td>\n",
       "      <td>0.0</td>\n",
       "      <td>4</td>\n",
       "      <td>1</td>\n",
       "      <td>0.0349</td>\n",
       "      <td>1</td>\n",
       "      <td>1</td>\n",
       "      <td>2</td>\n",
       "      <td>403</td>\n",
       "      <td>0.0</td>\n",
       "      <td>3</td>\n",
       "      <td>30.0</td>\n",
       "      <td>1888.0</td>\n",
       "    </tr>\n",
       "    <tr>\n",
       "      <th>148402</th>\n",
       "      <td>1.0</td>\n",
       "      <td>0.0</td>\n",
       "      <td>0.0</td>\n",
       "      <td>0.0</td>\n",
       "      <td>4</td>\n",
       "      <td>1</td>\n",
       "      <td>0.0089</td>\n",
       "      <td>3</td>\n",
       "      <td>2</td>\n",
       "      <td>2</td>\n",
       "      <td>489</td>\n",
       "      <td>0.0</td>\n",
       "      <td>4</td>\n",
       "      <td>30.0</td>\n",
       "      <td>1272.0</td>\n",
       "    </tr>\n",
       "    <tr>\n",
       "      <th>122826</th>\n",
       "      <td>1.0</td>\n",
       "      <td>0.0</td>\n",
       "      <td>0.0</td>\n",
       "      <td>0.0</td>\n",
       "      <td>4</td>\n",
       "      <td>1</td>\n",
       "      <td>0.0307</td>\n",
       "      <td>1</td>\n",
       "      <td>1</td>\n",
       "      <td>2</td>\n",
       "      <td>885</td>\n",
       "      <td>2.0</td>\n",
       "      <td>3</td>\n",
       "      <td>40.0</td>\n",
       "      <td>431.0</td>\n",
       "    </tr>\n",
       "    <tr>\n",
       "      <th>76182</th>\n",
       "      <td>1.0</td>\n",
       "      <td>0.0</td>\n",
       "      <td>0.0</td>\n",
       "      <td>0.0</td>\n",
       "      <td>3</td>\n",
       "      <td>1</td>\n",
       "      <td>0.0769</td>\n",
       "      <td>3</td>\n",
       "      <td>1</td>\n",
       "      <td>1</td>\n",
       "      <td>489</td>\n",
       "      <td>0.0</td>\n",
       "      <td>5</td>\n",
       "      <td>-1.0</td>\n",
       "      <td>1514.0</td>\n",
       "    </tr>\n",
       "  </tbody>\n",
       "</table>\n",
       "</div>"
      ],
      "text/plain": [
       "        view  add  delet  fellow  comment_num  has_bad_comment  \\\n",
       "251373   4.0  1.0    0.0     0.0            4                1   \n",
       "268250  41.0  2.0    1.0     0.0            4                1   \n",
       "148402   1.0  0.0    0.0     0.0            4                1   \n",
       "122826   1.0  0.0    0.0     0.0            4                1   \n",
       "76182    1.0  0.0    0.0     0.0            3                1   \n",
       "\n",
       "        bad_comment_rate  a1  a2  a3  brand  sex  user_lv_cd  age2  reg_days  \n",
       "251373            0.0187   1   1   1    545  2.0           4  30.0    1011.0  \n",
       "268250            0.0349   1   1   2    403  0.0           3  30.0    1888.0  \n",
       "148402            0.0089   3   2   2    489  0.0           4  30.0    1272.0  \n",
       "122826            0.0307   1   1   2    885  2.0           3  40.0     431.0  \n",
       "76182             0.0769   3   1   1    489  0.0           5  -1.0    1514.0  "
      ]
     },
     "execution_count": 15,
     "metadata": {},
     "output_type": "execute_result"
    }
   ],
   "source": [
    "x.head()"
   ]
  },
  {
   "cell_type": "code",
   "execution_count": 11,
   "metadata": {
    "collapsed": false
   },
   "outputs": [
    {
     "name": "stderr",
     "output_type": "stream",
     "text": [
      "/Users/xiaolin/anaconda3/lib/python3.6/site-packages/sklearn/learning_curve.py:23: DeprecationWarning: This module was deprecated in version 0.18 in favor of the model_selection module into which all the functions are moved. This module will be removed in 0.20\n",
      "  DeprecationWarning)\n"
     ]
    }
   ],
   "source": [
    "import numpy as np\n",
    "import matplotlib.pylab as plt\n",
    "from sklearn.ensemble import ExtraTreesClassifier\n",
    "from sklearn.feature_selection import SelectFromModel\n",
    "import pandas as pd\n",
    "from sklearn.learning_curve import learning_curve\n",
    "    \n",
    "def Importance_Plot(df_2, label):\n",
    "    '''\n",
    "    :param df: DATAFRAME style\n",
    "    :param label: y vector\n",
    "    :param threshold: jude threshold\n",
    "    :return: figure\n",
    "    '''\n",
    "    import numpy as np\n",
    "    import matplotlib.pylab as plt\n",
    "    from sklearn.ensemble import ExtraTreesClassifier\n",
    "    from sklearn.feature_selection import SelectFromModel\n",
    "    import pandas as pd\n",
    "    model = ExtraTreesClassifier()\n",
    "    data1 = np.array(df_2)\n",
    "    label=np.array(label).ravel()\n",
    "    model.fit(data1, label)\n",
    "    importance = model.feature_importances_\n",
    "    std = np.std([importance for tree in model.estimators_], axis=0)\n",
    "    indices = np.argsort(importance)[::-1]\n",
    "    namedata = df_2\n",
    "    # Print the feature ranking\n",
    "    print(\"Feature ranking:\")\n",
    "    importa = pd.DataFrame(\n",
    "        {'importance': list(importance[indices]), 'Feature name': list(namedata.columns[indices])})\n",
    "    print (importa)\n",
    "    # Plot the feature importances of the forest\n",
    "    plt.figure()\n",
    "    plt.title(\"Feature importances\")\n",
    "    plt.bar(range(data1.shape[1]), importance[indices],\n",
    "            color=\"g\", yerr=std[indices], align=\"center\")\n",
    "    plt.xticks(range(data1.shape[1]), indices)\n",
    "    plt.xlim([-1, data1.shape[1]])\n",
    "    plt.grid(True)\n",
    "    plt.show()\n",
    "\n",
    "    modelnew = SelectFromModel(model, prefit=True)\n",
    "    print ('Select feature num:', modelnew.transform(data1).shape[1])\n",
    "\n",
    "def learn_curve_plot(estimator,title,X,y,cv=None,train_sizes=np.linspace(0.1,1.0,5)):\n",
    "    '''\n",
    "    :param estimator: the model/algorithem you choose\n",
    "    :param title: plot title\n",
    "    :param x: train data numpy array style\n",
    "    :param y: target data vector\n",
    "    :param xlim: axes x lim\n",
    "    :param ylim: axes y lim\n",
    "    :param cv:\n",
    "    :return: the figure\n",
    "    '''\n",
    "    plt.figure()\n",
    "\n",
    "    train_sizes,train_scores,test_scores=\\\n",
    "        learning_curve(estimator,X,y,cv=cv,train_sizes=train_sizes)\n",
    "    '''this is the key score function'''\n",
    "    train_scores_mean=np.mean(train_scores,axis=1)\n",
    "    train_scores_std=np.std(train_scores,axis=1)\n",
    "    test_scores_mean=np.mean(test_scores,axis=1)\n",
    "    test_scores_std=np.std(test_scores,axis=1)\n",
    "\n",
    "    plt.fill_between(train_sizes,train_scores_mean - train_scores_std,\n",
    "                     train_scores_mean + train_scores_std,alpha=0.1,color='b')\n",
    "    plt.fill_between(train_sizes,test_scores_mean - test_scores_std,\n",
    "                     test_scores_mean + test_scores_std,alpha=0.1,color='g')\n",
    "    plt.plot(train_sizes,train_scores_mean,'o-',color='b',label='training score')\n",
    "    plt.plot(train_sizes,test_scores_mean,'o-',color='g',label='cross valid score')\n",
    "    plt.xlabel('training examples')\n",
    "    plt.ylabel('score')\n",
    "    plt.legend(loc='best')\n",
    "    plt.grid('on')\n",
    "    plt.title(title)\n",
    "    plt.show()\n",
    "\n",
    "def corr_analysis(data):\n",
    "    import seaborn as sns\n",
    "    corr=data.corr()\n",
    "    #Generate a mask for the upper triangle\n",
    "    mask = np.zeros_like(corr, dtype=np.bool)\n",
    "    mask[np.triu_indices_from(mask)] = True\n",
    "    f, ax = plt.subplots(figsize=(20, 20))\n",
    "    # Generate a custom diverging colormap\n",
    "    cmap = sns.diverging_palette(110, 10,as_cmap=True)\n",
    "    # Draw the heatmap with the mask and correct aspect ratio\n",
    "    sns.heatmap(corr, mask=mask, cmap=cmap, vmax=1,linewidths=.5,\n",
    "            cbar_kws={\"shrink\": .6},annot=True,annot_kws={\"size\":8} )\n",
    "    plt.xticks(rotation=90)\n",
    "    plt.yticks(rotation=0)\n",
    "    plt.show()\n",
    "    return corr\n",
    "\n"
   ]
  },
  {
   "cell_type": "code",
   "execution_count": 9,
   "metadata": {
    "collapsed": false
   },
   "outputs": [
    {
     "data": {
      "text/plain": [
       "array([  2.32909000e+05,   1.68651000e+05,   1.00000000e+00, ...,\n",
       "         2.00000000e+00,  -1.00000000e+00,   7.20000000e+02])"
      ]
     },
     "execution_count": 9,
     "metadata": {},
     "output_type": "execute_result"
    }
   ],
   "source": [
    "# np.array(df_sample_0).ravel()"
   ]
  },
  {
   "cell_type": "code",
   "execution_count": 10,
   "metadata": {
    "collapsed": false
   },
   "outputs": [
    {
     "data": {
      "text/html": [
       "<div>\n",
       "<table border=\"1\" class=\"dataframe\">\n",
       "  <thead>\n",
       "    <tr style=\"text-align: right;\">\n",
       "      <th></th>\n",
       "      <th>view</th>\n",
       "      <th>add</th>\n",
       "      <th>delet</th>\n",
       "      <th>fellow</th>\n",
       "      <th>comment_num</th>\n",
       "      <th>has_bad_comment</th>\n",
       "      <th>bad_comment_rate</th>\n",
       "      <th>a1</th>\n",
       "      <th>a2</th>\n",
       "      <th>a3</th>\n",
       "      <th>brand</th>\n",
       "      <th>sex</th>\n",
       "      <th>user_lv_cd</th>\n",
       "      <th>age2</th>\n",
       "      <th>reg_days</th>\n",
       "    </tr>\n",
       "  </thead>\n",
       "  <tbody>\n",
       "    <tr>\n",
       "      <th>622720</th>\n",
       "      <td>1.0</td>\n",
       "      <td>0.0</td>\n",
       "      <td>0.0</td>\n",
       "      <td>0.0</td>\n",
       "      <td>4</td>\n",
       "      <td>1</td>\n",
       "      <td>0.0250</td>\n",
       "      <td>1</td>\n",
       "      <td>1</td>\n",
       "      <td>1</td>\n",
       "      <td>403</td>\n",
       "      <td>2.0</td>\n",
       "      <td>5</td>\n",
       "      <td>30.0</td>\n",
       "      <td>1327.0</td>\n",
       "    </tr>\n",
       "    <tr>\n",
       "      <th>232366</th>\n",
       "      <td>1.0</td>\n",
       "      <td>0.0</td>\n",
       "      <td>0.0</td>\n",
       "      <td>0.0</td>\n",
       "      <td>4</td>\n",
       "      <td>1</td>\n",
       "      <td>0.0079</td>\n",
       "      <td>1</td>\n",
       "      <td>1</td>\n",
       "      <td>2</td>\n",
       "      <td>545</td>\n",
       "      <td>0.0</td>\n",
       "      <td>5</td>\n",
       "      <td>40.0</td>\n",
       "      <td>273.0</td>\n",
       "    </tr>\n",
       "    <tr>\n",
       "      <th>994196</th>\n",
       "      <td>1.0</td>\n",
       "      <td>0.0</td>\n",
       "      <td>0.0</td>\n",
       "      <td>0.0</td>\n",
       "      <td>4</td>\n",
       "      <td>1</td>\n",
       "      <td>0.0160</td>\n",
       "      <td>3</td>\n",
       "      <td>2</td>\n",
       "      <td>1</td>\n",
       "      <td>489</td>\n",
       "      <td>0.0</td>\n",
       "      <td>5</td>\n",
       "      <td>30.0</td>\n",
       "      <td>1999.0</td>\n",
       "    </tr>\n",
       "    <tr>\n",
       "      <th>1008275</th>\n",
       "      <td>1.0</td>\n",
       "      <td>0.0</td>\n",
       "      <td>0.0</td>\n",
       "      <td>0.0</td>\n",
       "      <td>4</td>\n",
       "      <td>1</td>\n",
       "      <td>0.0385</td>\n",
       "      <td>3</td>\n",
       "      <td>2</td>\n",
       "      <td>-1</td>\n",
       "      <td>214</td>\n",
       "      <td>0.0</td>\n",
       "      <td>5</td>\n",
       "      <td>40.0</td>\n",
       "      <td>2051.0</td>\n",
       "    </tr>\n",
       "    <tr>\n",
       "      <th>416432</th>\n",
       "      <td>1.0</td>\n",
       "      <td>0.0</td>\n",
       "      <td>0.0</td>\n",
       "      <td>0.0</td>\n",
       "      <td>4</td>\n",
       "      <td>1</td>\n",
       "      <td>0.0676</td>\n",
       "      <td>1</td>\n",
       "      <td>2</td>\n",
       "      <td>1</td>\n",
       "      <td>693</td>\n",
       "      <td>2.0</td>\n",
       "      <td>3</td>\n",
       "      <td>40.0</td>\n",
       "      <td>664.0</td>\n",
       "    </tr>\n",
       "  </tbody>\n",
       "</table>\n",
       "</div>"
      ],
      "text/plain": [
       "         view  add  delet  fellow  comment_num  has_bad_comment  \\\n",
       "622720    1.0  0.0    0.0     0.0            4                1   \n",
       "232366    1.0  0.0    0.0     0.0            4                1   \n",
       "994196    1.0  0.0    0.0     0.0            4                1   \n",
       "1008275   1.0  0.0    0.0     0.0            4                1   \n",
       "416432    1.0  0.0    0.0     0.0            4                1   \n",
       "\n",
       "         bad_comment_rate  a1  a2  a3  brand  sex  user_lv_cd  age2  reg_days  \n",
       "622720             0.0250   1   1   1    403  2.0           5  30.0    1327.0  \n",
       "232366             0.0079   1   1   2    545  0.0           5  40.0     273.0  \n",
       "994196             0.0160   3   2   1    489  0.0           5  30.0    1999.0  \n",
       "1008275            0.0385   3   2  -1    214  0.0           5  40.0    2051.0  \n",
       "416432             0.0676   1   2   1    693  2.0           3  40.0     664.0  "
      ]
     },
     "execution_count": 10,
     "metadata": {},
     "output_type": "execute_result"
    }
   ],
   "source": [
    "# y=np.array(df_sample_0[\"label\"]).ravel()\n",
    "# x=df_sample_0.drop([\"label\",\"user_id\",\"sku_id\"],1).fillna(-900)\n",
    "x.head()"
   ]
  },
  {
   "cell_type": "code",
   "execution_count": 17,
   "metadata": {
    "collapsed": false
   },
   "outputs": [
    {
     "name": "stdout",
     "output_type": "stream",
     "text": [
      "Feature ranking:\n",
      "        Feature name  importance\n",
      "0               view    0.528944\n",
      "1                add    0.261935\n",
      "2           reg_days    0.034022\n",
      "3              delet    0.026484\n",
      "4         user_lv_cd    0.025454\n",
      "5              brand    0.019946\n",
      "6   bad_comment_rate    0.016082\n",
      "7               age2    0.015961\n",
      "8                 a2    0.013997\n",
      "9                 a1    0.013464\n",
      "10   has_bad_comment    0.010624\n",
      "11       comment_num    0.010390\n",
      "12                a3    0.009022\n",
      "13            fellow    0.007407\n",
      "14               sex    0.006269\n"
     ]
    },
    {
     "data": {
      "image/png": "[encoded data removed]",
      "text/plain": [
       "<matplotlib.figure.Figure at 0x11fd39b70>"
      ]
     },
     "metadata": {},
     "output_type": "display_data"
    },
    {
     "name": "stdout",
     "output_type": "stream",
     "text": [
      "Select feature num: 2\n"
     ]
    }
   ],
   "source": [
    "Importance_Plot(x,y)"
   ]
  },
  {
   "cell_type": "code",
   "execution_count": 18,
   "metadata": {
    "collapsed": false
   },
   "outputs": [
    {
     "data": {
      "image/png": "[encoded data removed]",
      "text/plain": [
       "<matplotlib.figure.Figure at 0x118daad30>"
      ]
     },
     "metadata": {},
     "output_type": "display_data"
    },
    {
     "data": {
      "text/html": [
       "<div>\n",
       "<table border=\"1\" class=\"dataframe\">\n",
       "  <thead>\n",
       "    <tr style=\"text-align: right;\">\n",
       "      <th></th>\n",
       "      <th>view</th>\n",
       "      <th>add</th>\n",
       "      <th>delet</th>\n",
       "      <th>fellow</th>\n",
       "      <th>comment_num</th>\n",
       "      <th>has_bad_comment</th>\n",
       "      <th>bad_comment_rate</th>\n",
       "      <th>a1</th>\n",
       "      <th>a2</th>\n",
       "      <th>a3</th>\n",
       "      <th>brand</th>\n",
       "      <th>sex</th>\n",
       "      <th>user_lv_cd</th>\n",
       "      <th>age2</th>\n",
       "      <th>reg_days</th>\n",
       "    </tr>\n",
       "  </thead>\n",
       "  <tbody>\n",
       "    <tr>\n",
       "      <th>view</th>\n",
       "      <td>1.000000</td>\n",
       "      <td>0.571146</td>\n",
       "      <td>0.345212</td>\n",
       "      <td>0.227782</td>\n",
       "      <td>0.051122</td>\n",
       "      <td>0.042370</td>\n",
       "      <td>-0.028580</td>\n",
       "      <td>-0.026219</td>\n",
       "      <td>-0.039937</td>\n",
       "      <td>0.047878</td>\n",
       "      <td>0.032465</td>\n",
       "      <td>-0.004497</td>\n",
       "      <td>0.079656</td>\n",
       "      <td>0.047401</td>\n",
       "      <td>0.023017</td>\n",
       "    </tr>\n",
       "    <tr>\n",
       "      <th>add</th>\n",
       "      <td>0.571146</td>\n",
       "      <td>1.000000</td>\n",
       "      <td>0.593357</td>\n",
       "      <td>0.158244</td>\n",
       "      <td>0.073301</td>\n",
       "      <td>0.068624</td>\n",
       "      <td>-0.022154</td>\n",
       "      <td>-0.071928</td>\n",
       "      <td>-0.044280</td>\n",
       "      <td>0.017551</td>\n",
       "      <td>0.060390</td>\n",
       "      <td>-0.004388</td>\n",
       "      <td>0.082912</td>\n",
       "      <td>0.044101</td>\n",
       "      <td>0.011207</td>\n",
       "    </tr>\n",
       "    <tr>\n",
       "      <th>delet</th>\n",
       "      <td>0.345212</td>\n",
       "      <td>0.593357</td>\n",
       "      <td>1.000000</td>\n",
       "      <td>0.135143</td>\n",
       "      <td>0.037224</td>\n",
       "      <td>0.035134</td>\n",
       "      <td>-0.010048</td>\n",
       "      <td>-0.020403</td>\n",
       "      <td>-0.013907</td>\n",
       "      <td>0.026141</td>\n",
       "      <td>0.022471</td>\n",
       "      <td>-0.009607</td>\n",
       "      <td>0.042419</td>\n",
       "      <td>0.031566</td>\n",
       "      <td>0.011023</td>\n",
       "    </tr>\n",
       "    <tr>\n",
       "      <th>fellow</th>\n",
       "      <td>0.227782</td>\n",
       "      <td>0.158244</td>\n",
       "      <td>0.135143</td>\n",
       "      <td>1.000000</td>\n",
       "      <td>0.011383</td>\n",
       "      <td>0.008324</td>\n",
       "      <td>-0.009809</td>\n",
       "      <td>0.000951</td>\n",
       "      <td>-0.005068</td>\n",
       "      <td>0.011575</td>\n",
       "      <td>0.009724</td>\n",
       "      <td>-0.001261</td>\n",
       "      <td>0.019654</td>\n",
       "      <td>0.019478</td>\n",
       "      <td>0.010766</td>\n",
       "    </tr>\n",
       "    <tr>\n",
       "      <th>comment_num</th>\n",
       "      <td>0.051122</td>\n",
       "      <td>0.073301</td>\n",
       "      <td>0.037224</td>\n",
       "      <td>0.011383</td>\n",
       "      <td>1.000000</td>\n",
       "      <td>0.766366</td>\n",
       "      <td>0.040358</td>\n",
       "      <td>-0.045629</td>\n",
       "      <td>0.028403</td>\n",
       "      <td>-0.065781</td>\n",
       "      <td>-0.000343</td>\n",
       "      <td>-0.001064</td>\n",
       "      <td>0.014973</td>\n",
       "      <td>-0.014615</td>\n",
       "      <td>-0.014693</td>\n",
       "    </tr>\n",
       "    <tr>\n",
       "      <th>has_bad_comment</th>\n",
       "      <td>0.042370</td>\n",
       "      <td>0.068624</td>\n",
       "      <td>0.035134</td>\n",
       "      <td>0.008324</td>\n",
       "      <td>0.766366</td>\n",
       "      <td>1.000000</td>\n",
       "      <td>0.283645</td>\n",
       "      <td>-0.065852</td>\n",
       "      <td>0.029135</td>\n",
       "      <td>-0.085685</td>\n",
       "      <td>0.015868</td>\n",
       "      <td>-0.001307</td>\n",
       "      <td>0.014190</td>\n",
       "      <td>-0.013867</td>\n",
       "      <td>-0.016338</td>\n",
       "    </tr>\n",
       "    <tr>\n",
       "      <th>bad_comment_rate</th>\n",
       "      <td>-0.028580</td>\n",
       "      <td>-0.022154</td>\n",
       "      <td>-0.010048</td>\n",
       "      <td>-0.009809</td>\n",
       "      <td>0.040358</td>\n",
       "      <td>0.283645</td>\n",
       "      <td>1.000000</td>\n",
       "      <td>-0.058567</td>\n",
       "      <td>0.016875</td>\n",
       "      <td>0.006964</td>\n",
       "      <td>0.048160</td>\n",
       "      <td>-0.000859</td>\n",
       "      <td>0.001253</td>\n",
       "      <td>-0.001894</td>\n",
       "      <td>0.000033</td>\n",
       "    </tr>\n",
       "    <tr>\n",
       "      <th>a1</th>\n",
       "      <td>-0.026219</td>\n",
       "      <td>-0.071928</td>\n",
       "      <td>-0.020403</td>\n",
       "      <td>0.000951</td>\n",
       "      <td>-0.045629</td>\n",
       "      <td>-0.065852</td>\n",
       "      <td>-0.058567</td>\n",
       "      <td>1.000000</td>\n",
       "      <td>0.067430</td>\n",
       "      <td>-0.110130</td>\n",
       "      <td>-0.503546</td>\n",
       "      <td>0.003016</td>\n",
       "      <td>0.015967</td>\n",
       "      <td>0.010142</td>\n",
       "      <td>0.033862</td>\n",
       "    </tr>\n",
       "    <tr>\n",
       "      <th>a2</th>\n",
       "      <td>-0.039937</td>\n",
       "      <td>-0.044280</td>\n",
       "      <td>-0.013907</td>\n",
       "      <td>-0.005068</td>\n",
       "      <td>0.028403</td>\n",
       "      <td>0.029135</td>\n",
       "      <td>0.016875</td>\n",
       "      <td>0.067430</td>\n",
       "      <td>1.000000</td>\n",
       "      <td>0.056987</td>\n",
       "      <td>-0.070557</td>\n",
       "      <td>0.001577</td>\n",
       "      <td>0.009753</td>\n",
       "      <td>-0.000834</td>\n",
       "      <td>-0.001108</td>\n",
       "    </tr>\n",
       "    <tr>\n",
       "      <th>a3</th>\n",
       "      <td>0.047878</td>\n",
       "      <td>0.017551</td>\n",
       "      <td>0.026141</td>\n",
       "      <td>0.011575</td>\n",
       "      <td>-0.065781</td>\n",
       "      <td>-0.085685</td>\n",
       "      <td>0.006964</td>\n",
       "      <td>-0.110130</td>\n",
       "      <td>0.056987</td>\n",
       "      <td>1.000000</td>\n",
       "      <td>0.171481</td>\n",
       "      <td>-0.008651</td>\n",
       "      <td>0.009048</td>\n",
       "      <td>0.008106</td>\n",
       "      <td>0.018546</td>\n",
       "    </tr>\n",
       "    <tr>\n",
       "      <th>brand</th>\n",
       "      <td>0.032465</td>\n",
       "      <td>0.060390</td>\n",
       "      <td>0.022471</td>\n",
       "      <td>0.009724</td>\n",
       "      <td>-0.000343</td>\n",
       "      <td>0.015868</td>\n",
       "      <td>0.048160</td>\n",
       "      <td>-0.503546</td>\n",
       "      <td>-0.070557</td>\n",
       "      <td>0.171481</td>\n",
       "      <td>1.000000</td>\n",
       "      <td>0.003280</td>\n",
       "      <td>-0.013878</td>\n",
       "      <td>-0.004988</td>\n",
       "      <td>-0.037031</td>\n",
       "    </tr>\n",
       "    <tr>\n",
       "      <th>sex</th>\n",
       "      <td>-0.004497</td>\n",
       "      <td>-0.004388</td>\n",
       "      <td>-0.009607</td>\n",
       "      <td>-0.001261</td>\n",
       "      <td>-0.001064</td>\n",
       "      <td>-0.001307</td>\n",
       "      <td>-0.000859</td>\n",
       "      <td>0.003016</td>\n",
       "      <td>0.001577</td>\n",
       "      <td>-0.008651</td>\n",
       "      <td>0.003280</td>\n",
       "      <td>1.000000</td>\n",
       "      <td>-0.041113</td>\n",
       "      <td>0.382186</td>\n",
       "      <td>-0.079424</td>\n",
       "    </tr>\n",
       "    <tr>\n",
       "      <th>user_lv_cd</th>\n",
       "      <td>0.079656</td>\n",
       "      <td>0.082912</td>\n",
       "      <td>0.042419</td>\n",
       "      <td>0.019654</td>\n",
       "      <td>0.014973</td>\n",
       "      <td>0.014190</td>\n",
       "      <td>0.001253</td>\n",
       "      <td>0.015967</td>\n",
       "      <td>0.009753</td>\n",
       "      <td>0.009048</td>\n",
       "      <td>-0.013878</td>\n",
       "      <td>-0.041113</td>\n",
       "      <td>1.000000</td>\n",
       "      <td>0.122776</td>\n",
       "      <td>0.502611</td>\n",
       "    </tr>\n",
       "    <tr>\n",
       "      <th>age2</th>\n",
       "      <td>0.047401</td>\n",
       "      <td>0.044101</td>\n",
       "      <td>0.031566</td>\n",
       "      <td>0.019478</td>\n",
       "      <td>-0.014615</td>\n",
       "      <td>-0.013867</td>\n",
       "      <td>-0.001894</td>\n",
       "      <td>0.010142</td>\n",
       "      <td>-0.000834</td>\n",
       "      <td>0.008106</td>\n",
       "      <td>-0.004988</td>\n",
       "      <td>0.382186</td>\n",
       "      <td>0.122776</td>\n",
       "      <td>1.000000</td>\n",
       "      <td>0.088033</td>\n",
       "    </tr>\n",
       "    <tr>\n",
       "      <th>reg_days</th>\n",
       "      <td>0.023017</td>\n",
       "      <td>0.011207</td>\n",
       "      <td>0.011023</td>\n",
       "      <td>0.010766</td>\n",
       "      <td>-0.014693</td>\n",
       "      <td>-0.016338</td>\n",
       "      <td>0.000033</td>\n",
       "      <td>0.033862</td>\n",
       "      <td>-0.001108</td>\n",
       "      <td>0.018546</td>\n",
       "      <td>-0.037031</td>\n",
       "      <td>-0.079424</td>\n",
       "      <td>0.502611</td>\n",
       "      <td>0.088033</td>\n",
       "      <td>1.000000</td>\n",
       "    </tr>\n",
       "  </tbody>\n",
       "</table>\n",
       "</div>"
      ],
      "text/plain": [
       "                      view       add     delet    fellow  comment_num  \\\n",
       "view              1.000000  0.571146  0.345212  0.227782     0.051122   \n",
       "add               0.571146  1.000000  0.593357  0.158244     0.073301   \n",
       "delet             0.345212  0.593357  1.000000  0.135143     0.037224   \n",
       "fellow            0.227782  0.158244  0.135143  1.000000     0.011383   \n",
       "comment_num       0.051122  0.073301  0.037224  0.011383     1.000000   \n",
       "has_bad_comment   0.042370  0.068624  0.035134  0.008324     0.766366   \n",
       "bad_comment_rate -0.028580 -0.022154 -0.010048 -0.009809     0.040358   \n",
       "a1               -0.026219 -0.071928 -0.020403  0.000951    -0.045629   \n",
       "a2               -0.039937 -0.044280 -0.013907 -0.005068     0.028403   \n",
       "a3                0.047878  0.017551  0.026141  0.011575    -0.065781   \n",
       "brand             0.032465  0.060390  0.022471  0.009724    -0.000343   \n",
       "sex              -0.004497 -0.004388 -0.009607 -0.001261    -0.001064   \n",
       "user_lv_cd        0.079656  0.082912  0.042419  0.019654     0.014973   \n",
       "age2              0.047401  0.044101  0.031566  0.019478    -0.014615   \n",
       "reg_days          0.023017  0.011207  0.011023  0.010766    -0.014693   \n",
       "\n",
       "                  has_bad_comment  bad_comment_rate        a1        a2  \\\n",
       "view                     0.042370         -0.028580 -0.026219 -0.039937   \n",
       "add                      0.068624         -0.022154 -0.071928 -0.044280   \n",
       "delet                    0.035134         -0.010048 -0.020403 -0.013907   \n",
       "fellow                   0.008324         -0.009809  0.000951 -0.005068   \n",
       "comment_num              0.766366          0.040358 -0.045629  0.028403   \n",
       "has_bad_comment          1.000000          0.283645 -0.065852  0.029135   \n",
       "bad_comment_rate         0.283645          1.000000 -0.058567  0.016875   \n",
       "a1                      -0.065852         -0.058567  1.000000  0.067430   \n",
       "a2                       0.029135          0.016875  0.067430  1.000000   \n",
       "a3                      -0.085685          0.006964 -0.110130  0.056987   \n",
       "brand                    0.015868          0.048160 -0.503546 -0.070557   \n",
       "sex                     -0.001307         -0.000859  0.003016  0.001577   \n",
       "user_lv_cd               0.014190          0.001253  0.015967  0.009753   \n",
       "age2                    -0.013867         -0.001894  0.010142 -0.000834   \n",
       "reg_days                -0.016338          0.000033  0.033862 -0.001108   \n",
       "\n",
       "                        a3     brand       sex  user_lv_cd      age2  reg_days  \n",
       "view              0.047878  0.032465 -0.004497    0.079656  0.047401  0.023017  \n",
       "add               0.017551  0.060390 -0.004388    0.082912  0.044101  0.011207  \n",
       "delet             0.026141  0.022471 -0.009607    0.042419  0.031566  0.011023  \n",
       "fellow            0.011575  0.009724 -0.001261    0.019654  0.019478  0.010766  \n",
       "comment_num      -0.065781 -0.000343 -0.001064    0.014973 -0.014615 -0.014693  \n",
       "has_bad_comment  -0.085685  0.015868 -0.001307    0.014190 -0.013867 -0.016338  \n",
       "bad_comment_rate  0.006964  0.048160 -0.000859    0.001253 -0.001894  0.000033  \n",
       "a1               -0.110130 -0.503546  0.003016    0.015967  0.010142  0.033862  \n",
       "a2                0.056987 -0.070557  0.001577    0.009753 -0.000834 -0.001108  \n",
       "a3                1.000000  0.171481 -0.008651    0.009048  0.008106  0.018546  \n",
       "brand             0.171481  1.000000  0.003280   -0.013878 -0.004988 -0.037031  \n",
       "sex              -0.008651  0.003280  1.000000   -0.041113  0.382186 -0.079424  \n",
       "user_lv_cd        0.009048 -0.013878 -0.041113    1.000000  0.122776  0.502611  \n",
       "age2              0.008106 -0.004988  0.382186    0.122776  1.000000  0.088033  \n",
       "reg_days          0.018546 -0.037031 -0.079424    0.502611  0.088033  1.000000  "
      ]
     },
     "execution_count": 18,
     "metadata": {},
     "output_type": "execute_result"
    }
   ],
   "source": [
    "corr_analysis(x)"
   ]
  },
  {
   "cell_type": "markdown",
   "metadata": {},
   "source": [
    "###### note：\n",
    "+ 点击和查看是一种连续的行为，排除其中一个变量,相关性超过0.85\n",
    "+ cate  变量没有任何实际的意义，排除掉。"
   ]
  },
  {
   "cell_type": "code",
   "execution_count": 47,
   "metadata": {
    "collapsed": false
   },
   "outputs": [
    {
     "data": {
      "text/html": [
       "<div>\n",
       "<table border=\"1\" class=\"dataframe\">\n",
       "  <thead>\n",
       "    <tr style=\"text-align: right;\">\n",
       "      <th></th>\n",
       "      <th>view</th>\n",
       "      <th>add</th>\n",
       "      <th>delet</th>\n",
       "      <th>fellow</th>\n",
       "      <th>comment_num</th>\n",
       "      <th>has_bad_comment</th>\n",
       "      <th>bad_comment_rate</th>\n",
       "      <th>a1</th>\n",
       "      <th>a2</th>\n",
       "      <th>a3</th>\n",
       "      <th>brand</th>\n",
       "      <th>sex</th>\n",
       "      <th>user_lv_cd</th>\n",
       "      <th>age2</th>\n",
       "      <th>reg_days</th>\n",
       "    </tr>\n",
       "  </thead>\n",
       "  <tbody>\n",
       "    <tr>\n",
       "      <th>0</th>\n",
       "      <td>1.0</td>\n",
       "      <td>0.0</td>\n",
       "      <td>0.0</td>\n",
       "      <td>0.0</td>\n",
       "      <td>4</td>\n",
       "      <td>0</td>\n",
       "      <td>0.0</td>\n",
       "      <td>3</td>\n",
       "      <td>1</td>\n",
       "      <td>1</td>\n",
       "      <td>214</td>\n",
       "      <td>2.0</td>\n",
       "      <td>3</td>\n",
       "      <td>40.0</td>\n",
       "      <td>742.0</td>\n",
       "    </tr>\n",
       "    <tr>\n",
       "      <th>1</th>\n",
       "      <td>1.0</td>\n",
       "      <td>0.0</td>\n",
       "      <td>0.0</td>\n",
       "      <td>0.0</td>\n",
       "      <td>4</td>\n",
       "      <td>0</td>\n",
       "      <td>0.0</td>\n",
       "      <td>3</td>\n",
       "      <td>1</td>\n",
       "      <td>1</td>\n",
       "      <td>214</td>\n",
       "      <td>2.0</td>\n",
       "      <td>3</td>\n",
       "      <td>40.0</td>\n",
       "      <td>742.0</td>\n",
       "    </tr>\n",
       "    <tr>\n",
       "      <th>2</th>\n",
       "      <td>1.0</td>\n",
       "      <td>0.0</td>\n",
       "      <td>0.0</td>\n",
       "      <td>0.0</td>\n",
       "      <td>4</td>\n",
       "      <td>0</td>\n",
       "      <td>0.0</td>\n",
       "      <td>3</td>\n",
       "      <td>1</td>\n",
       "      <td>1</td>\n",
       "      <td>214</td>\n",
       "      <td>2.0</td>\n",
       "      <td>3</td>\n",
       "      <td>40.0</td>\n",
       "      <td>742.0</td>\n",
       "    </tr>\n",
       "    <tr>\n",
       "      <th>3</th>\n",
       "      <td>1.0</td>\n",
       "      <td>0.0</td>\n",
       "      <td>0.0</td>\n",
       "      <td>0.0</td>\n",
       "      <td>4</td>\n",
       "      <td>0</td>\n",
       "      <td>0.0</td>\n",
       "      <td>3</td>\n",
       "      <td>1</td>\n",
       "      <td>1</td>\n",
       "      <td>214</td>\n",
       "      <td>2.0</td>\n",
       "      <td>3</td>\n",
       "      <td>40.0</td>\n",
       "      <td>742.0</td>\n",
       "    </tr>\n",
       "    <tr>\n",
       "      <th>4</th>\n",
       "      <td>1.0</td>\n",
       "      <td>0.0</td>\n",
       "      <td>0.0</td>\n",
       "      <td>0.0</td>\n",
       "      <td>4</td>\n",
       "      <td>0</td>\n",
       "      <td>0.0</td>\n",
       "      <td>3</td>\n",
       "      <td>1</td>\n",
       "      <td>1</td>\n",
       "      <td>214</td>\n",
       "      <td>2.0</td>\n",
       "      <td>3</td>\n",
       "      <td>40.0</td>\n",
       "      <td>742.0</td>\n",
       "    </tr>\n",
       "  </tbody>\n",
       "</table>\n",
       "</div>"
      ],
      "text/plain": [
       "   view  add  delet  fellow  comment_num  has_bad_comment  bad_comment_rate  \\\n",
       "0   1.0  0.0    0.0     0.0            4                0               0.0   \n",
       "1   1.0  0.0    0.0     0.0            4                0               0.0   \n",
       "2   1.0  0.0    0.0     0.0            4                0               0.0   \n",
       "3   1.0  0.0    0.0     0.0            4                0               0.0   \n",
       "4   1.0  0.0    0.0     0.0            4                0               0.0   \n",
       "\n",
       "   a1  a2  a3  brand  sex  user_lv_cd  age2  reg_days  \n",
       "0   3   1   1    214  2.0           3  40.0     742.0  \n",
       "1   3   1   1    214  2.0           3  40.0     742.0  \n",
       "2   3   1   1    214  2.0           3  40.0     742.0  \n",
       "3   3   1   1    214  2.0           3  40.0     742.0  \n",
       "4   3   1   1    214  2.0           3  40.0     742.0  "
      ]
     },
     "execution_count": 47,
     "metadata": {},
     "output_type": "execute_result"
    }
   ],
   "source": [
    "# x=df_sample_0.drop([\"label\",\"user_id\",\"sku_id\",\"cate\",\"click\"],1).fillna(-900)\n",
    "x.head()"
   ]
  },
  {
   "cell_type": "code",
   "execution_count": 48,
   "metadata": {
    "collapsed": false
   },
   "outputs": [
    {
     "name": "stdout",
     "output_type": "stream",
     "text": [
      "Feature ranking:\n",
      "        Feature name  importance\n",
      "0               view    0.528129\n",
      "1                add    0.321654\n",
      "2              delet    0.034884\n",
      "3           reg_days    0.032175\n",
      "4               age2    0.011890\n",
      "5         user_lv_cd    0.011779\n",
      "6   bad_comment_rate    0.011482\n",
      "7                 a1    0.011207\n",
      "8              brand    0.009935\n",
      "9                 a2    0.006629\n",
      "10                a3    0.005064\n",
      "11            fellow    0.004682\n",
      "12               sex    0.004379\n",
      "13       comment_num    0.003832\n",
      "14   has_bad_comment    0.002280\n"
     ]
    },
    {
     "data": {
      "image/png": "[encoded data removed]",
      "text/plain": [
       "<matplotlib.figure.Figure at 0x17fea8da0>"
      ]
     },
     "metadata": {},
     "output_type": "display_data"
    },
    {
     "name": "stdout",
     "output_type": "stream",
     "text": [
      "Select feature num: 2\n"
     ]
    }
   ],
   "source": [
    "Importance_Plot(x,y)"
   ]
  },
  {
   "cell_type": "code",
   "execution_count": 20,
   "metadata": {
    "collapsed": false
   },
   "outputs": [],
   "source": [
    "# corr_analysis(x)"
   ]
  },
  {
   "cell_type": "code",
   "execution_count": 20,
   "metadata": {
    "collapsed": false
   },
   "outputs": [],
   "source": [
    "import seaborn as sns\n",
    "# df=df_sample_0.drop([\"user_id\",\"sku_id\",\"cate\",\"click\"],1).fillna(-900)\n",
    "# df.head()"
   ]
  },
  {
   "cell_type": "code",
   "execution_count": 50,
   "metadata": {
    "collapsed": false
   },
   "outputs": [
    {
     "data": {
      "text/plain": [
       "0.0    976596\n",
       "1.0    154152\n",
       "Name: label, dtype: int64"
      ]
     },
     "execution_count": 50,
     "metadata": {},
     "output_type": "execute_result"
    }
   ],
   "source": [
    "df[\"label\"].value_counts()"
   ]
  },
  {
   "cell_type": "code",
   "execution_count": 21,
   "metadata": {
    "collapsed": false
   },
   "outputs": [
    {
     "data": {
      "image/png": "[encoded data removed]",
      "text/plain": [
       "<matplotlib.figure.Figure at 0x1193a34e0>"
      ]
     },
     "metadata": {},
     "output_type": "display_data"
    }
   ],
   "source": [
    "%matplotlib inline\n",
    "sns.pairplot(df_s,vars=[\"view\"], hue=\"label\")\n",
    "plt.show()"
   ]
  },
  {
   "cell_type": "code",
   "execution_count": 22,
   "metadata": {
    "collapsed": false
   },
   "outputs": [
    {
     "data": {
      "text/plain": [
       "<seaborn.axisgrid.PairGrid at 0x119c05eb8>"
      ]
     },
     "execution_count": 22,
     "metadata": {},
     "output_type": "execute_result"
    },
    {
     "data": {
      "image/png": "[encoded data removed]",
      "text/plain": [
       "<matplotlib.figure.Figure at 0x119c05470>"
      ]
     },
     "metadata": {},
     "output_type": "display_data"
    }
   ],
   "source": [
    "sns.pairplot(df_s,vars=[\"add\"], hue=\"label\")"
   ]
  },
  {
   "cell_type": "code",
   "execution_count": 23,
   "metadata": {
    "collapsed": false
   },
   "outputs": [],
   "source": [
    "from sklearn.ensemble import RandomForestClassifier\n",
    "from sklearn.cross_validation import train_test_split\n",
    "from sklearn.metrics import roc_auc_score,classification_report\n",
    "\n",
    "x_train,x_test,y_train,y_test=train_test_split(x,y,test_size=0.25)\n",
    "\n",
    "rfclf=RandomForestClassifier(n_jobs=-1,random_state=300)\n",
    "rfclf.fit(x_train,y_train)\n",
    "y_pre=rfclf.predict(x_test)\n",
    "y_pro=rfclf.predict_proba(x_test)\n"
   ]
  },
  {
   "cell_type": "code",
   "execution_count": 24,
   "metadata": {
    "collapsed": false
   },
   "outputs": [
    {
     "name": "stdout",
     "output_type": "stream",
     "text": [
      "score: 0.998936115003\n",
      "auc_roc: 0.998935957214\n",
      "             precision    recall  f1-score   support\n",
      "\n",
      "        neg       1.00      1.00      1.00     38556\n",
      "        pos       1.00      1.00      1.00     38520\n",
      "\n",
      "avg / total       1.00      1.00      1.00     77076\n",
      "\n"
     ]
    }
   ],
   "source": [
    "print('score:',np.mean(y_pre==y_test))\n",
    "print(\"auc_roc:\",roc_auc_score(y_test,y_pre))\n",
    "print(classification_report(y_test,y_pre,target_names=[\"neg\",\"pos\"]))"
   ]
  },
  {
   "cell_type": "code",
   "execution_count": 25,
   "metadata": {
    "collapsed": false
   },
   "outputs": [
    {
     "data": {
      "image/png": "[encoded data removed]",
      "text/plain": [
       "<matplotlib.figure.Figure at 0x119c0ab70>"
      ]
     },
     "metadata": {},
     "output_type": "display_data"
    }
   ],
   "source": [
    "learn_curve_plot(rfclf,\"learn_score\",x,y)"
   ]
  },
  {
   "cell_type": "code",
   "execution_count": 26,
   "metadata": {
    "collapsed": false
   },
   "outputs": [
    {
     "data": {
      "text/plain": [
       "0.99893608760707653"
      ]
     },
     "execution_count": 26,
     "metadata": {},
     "output_type": "execute_result"
    }
   ],
   "source": [
    "from sklearn.metrics import fbeta_score\n",
    "fbeta_score(y_test, y_pre, average=\"weighted\", beta=2)"
   ]
  },
  {
   "cell_type": "code",
   "execution_count": null,
   "metadata": {
    "collapsed": true
   },
   "outputs": [],
   "source": []
  }
 ],
 "metadata": {
  "kernelspec": {
   "display_name": "Python 3",
   "language": "python",
   "name": "python3"
  },
  "language_info": {
   "codemirror_mode": {
    "name": "ipython",
    "version": 3
   },
   "file_extension": ".py",
   "mimetype": "text/x-python",
   "name": "python",
   "nbconvert_exporter": "python",
   "pygments_lexer": "ipython3",
   "version": "3.6.0"
  }
 },
 "nbformat": 4,
 "nbformat_minor": 2
}
