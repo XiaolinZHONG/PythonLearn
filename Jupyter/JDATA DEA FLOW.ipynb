{
 "cells": [
  {
   "cell_type": "markdown",
   "metadata": {},
   "source": [
    "## Basic"
   ]
  },
  {
   "cell_type": "markdown",
   "metadata": {},
   "source": [
    "rating  字段：单独的预测模型的结果，或者购买浏览历史记录"
   ]
  },
  {
   "cell_type": "code",
   "execution_count": 36,
   "metadata": {
    "collapsed": false
   },
   "outputs": [
    {
     "name": "stdout",
     "output_type": "stream",
     "text": [
      "[1, 2, 3, 4, 5]\n",
      "[1, 2, 2, 3, 4, 5]\n",
      "[5, 4, 3, 2, 2]\n"
     ]
    }
   ],
   "source": [
    "import bisect\n",
    "import random\n",
    "\n",
    "list = [1, 2, 3, 4, 5, 6, 7, 8, 9, 10]  \n",
    "# slice = random.sample(list, 5)  #从list中随机获取5个数据\n",
    "slice = [1,2,3,5,4]\n",
    "slice.sort()\n",
    "print (slice) # \n",
    "\n",
    "bisect.insort(slice,2)\n",
    "print(slice)\n",
    "\n",
    "slice.reverse()\n",
    "print(slice[0:5])\n",
    "# bisect.insort_left(slice,6)"
   ]
  },
  {
   "cell_type": "code",
   "execution_count": 48,
   "metadata": {
    "collapsed": false
   },
   "outputs": [
    {
     "name": "stdout",
     "output_type": "stream",
     "text": [
      "[34, 10, 9, 8, 7, 6, 5, 3, 2, 1]\n",
      "[1, 2, 3]\n",
      "[[1, 2, 3, 34, 5, 6, 7, 8, 9, 10]]\n",
      "[1, 2, 3, 34, 5, 6, 7, 8, 9, 10]\n"
     ]
    }
   ],
   "source": [
    "import heapq\n",
    "\n",
    "list = [1, 2, 3, 34, 5, 6, 7, 8, 9, 10] \n",
    "\n",
    "\n",
    "sortlist=heapq.nlargest(len(list),list)\n",
    "print(sortlist)\n",
    "\n",
    "sortlist=heapq.nsmallest(3,list)\n",
    "print(sortlist)\n",
    "\n",
    "heaplist=[]\n",
    "heapq.heappush(heaplist,list)\n",
    "print(heaplist)\n",
    "\n",
    "# print(heapq.heappop(heaplist))"
   ]
  },
  {
   "cell_type": "code",
   "execution_count": 51,
   "metadata": {
    "collapsed": false
   },
   "outputs": [
    {
     "name": "stdout",
     "output_type": "stream",
     "text": [
      "(1, 4, 6)\n",
      "(1, 4, 7)\n",
      "(1, 5, 6)\n",
      "(1, 5, 7)\n",
      "(2, 4, 6)\n",
      "(2, 4, 7)\n",
      "(2, 5, 6)\n",
      "(2, 5, 7)\n",
      "(3, 4, 6)\n",
      "(3, 4, 7)\n",
      "(3, 5, 6)\n",
      "(3, 5, 7)\n"
     ]
    }
   ],
   "source": [
    "import itertools  \n",
    "for i in  itertools.product([1, 2, 3], [4, 5], [6, 7]):  \n",
    "    print (i)"
   ]
  },
  {
   "cell_type": "code",
   "execution_count": null,
   "metadata": {
    "collapsed": true
   },
   "outputs": [],
   "source": [
    ""
   ]
  }
 ],
 "metadata": {
  "kernelspec": {
   "display_name": "Python 3",
   "language": "python",
   "name": "python3"
  },
  "language_info": {
   "codemirror_mode": {
    "name": "ipython",
    "version": 3.0
   },
   "file_extension": ".py",
   "mimetype": "text/x-python",
   "name": "python",
   "nbconvert_exporter": "python",
   "pygments_lexer": "ipython3",
   "version": "3.6.0"
  }
 },
 "nbformat": 4,
 "nbformat_minor": 0
}